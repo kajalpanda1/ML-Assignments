{
  "nbformat": 4,
  "nbformat_minor": 0,
  "metadata": {
    "colab": {
      "name": "LinearRegression_Diabetes.ipynb",
      "provenance": [],
      "collapsed_sections": [],
      "authorship_tag": "ABX9TyNgr+19zj3AS82XlSev+nKL",
      "include_colab_link": true
    },
    "kernelspec": {
      "name": "python3",
      "display_name": "Python 3"
    }
  },
  "cells": [
    {
      "cell_type": "markdown",
      "metadata": {
        "id": "view-in-github",
        "colab_type": "text"
      },
      "source": [
        "<a href=\"https://colab.research.google.com/github/kajalpanda1/ML-Assignments/blob/master/LinearRegression_Diabetes.ipynb\" target=\"_parent\"><img src=\"https://colab.research.google.com/assets/colab-badge.svg\" alt=\"Open In Colab\"/></a>"
      ]
    },
    {
      "cell_type": "code",
      "metadata": {
        "id": "VLCDmImFKiNY",
        "colab_type": "code",
        "colab": {}
      },
      "source": [
        "import matplotlib.pylab as plt\n",
        "import numpy as np\n",
        "%matplotlib inline\n",
        "from sklearn.linear_model import LinearRegression\n",
        "from sklearn import datasets"
      ],
      "execution_count": null,
      "outputs": []
    },
    {
      "cell_type": "code",
      "metadata": {
        "id": "bQjWU_dJKsbW",
        "colab_type": "code",
        "colab": {}
      },
      "source": [
        "import pandas as pd\n",
        "diabetes=datasets.load_diabetes()\n",
        "diabetesdf=pd.DataFrame(diabetes.data,columns=diabetes.feature_names)"
      ],
      "execution_count": null,
      "outputs": []
    },
    {
      "cell_type": "code",
      "metadata": {
        "id": "7y-iUXFCspoA",
        "colab_type": "code",
        "colab": {
          "base_uri": "https://localhost:8080/",
          "height": 34
        },
        "outputId": "98cc854a-bb36-4dcd-847f-28fe1bef9755"
      },
      "source": [
        "type(diabetes)"
      ],
      "execution_count": null,
      "outputs": [
        {
          "output_type": "execute_result",
          "data": {
            "text/plain": [
              "sklearn.utils.Bunch"
            ]
          },
          "metadata": {
            "tags": []
          },
          "execution_count": 41
        }
      ]
    },
    {
      "cell_type": "code",
      "metadata": {
        "id": "i-iUlefOKvox",
        "colab_type": "code",
        "colab": {
          "base_uri": "https://localhost:8080/",
          "height": 34
        },
        "outputId": "4bd78071-0a4d-44f4-e0ba-4a121969c1fd"
      },
      "source": [
        "diabetesdf.shape"
      ],
      "execution_count": null,
      "outputs": [
        {
          "output_type": "execute_result",
          "data": {
            "text/plain": [
              "(442, 10)"
            ]
          },
          "metadata": {
            "tags": []
          },
          "execution_count": 4
        }
      ]
    },
    {
      "cell_type": "code",
      "metadata": {
        "id": "fn0IzzIsLPs0",
        "colab_type": "code",
        "colab": {
          "base_uri": "https://localhost:8080/",
          "height": 34
        },
        "outputId": "47390bef-dd81-4a9e-a569-1eacbff2d12e"
      },
      "source": [
        "diabetesdf.columns # column names"
      ],
      "execution_count": null,
      "outputs": [
        {
          "output_type": "execute_result",
          "data": {
            "text/plain": [
              "Index(['age', 'sex', 'bmi', 'bp', 's1', 's2', 's3', 's4', 's5', 's6'], dtype='object')"
            ]
          },
          "metadata": {
            "tags": []
          },
          "execution_count": 5
        }
      ]
    },
    {
      "cell_type": "code",
      "metadata": {
        "id": "8plsCrer3srp",
        "colab_type": "code",
        "colab": {
          "base_uri": "https://localhost:8080/",
          "height": 34
        },
        "outputId": "0e9dc69e-6dc9-4ee2-9216-fc377de62603"
      },
      "source": [
        "from sklearn.decomposition import PCA\n",
        "pca=PCA(5)\n",
        "components=pca.fit_transform(diabetesdf)\n",
        "pca.explained_variance_"
      ],
      "execution_count": null,
      "outputs": [
        {
          "output_type": "execute_result",
          "data": {
            "text/plain": [
              "array([0.0091252 , 0.00338394, 0.00273461, 0.00216661, 0.00150155])"
            ]
          },
          "metadata": {
            "tags": []
          },
          "execution_count": 29
        }
      ]
    },
    {
      "cell_type": "code",
      "metadata": {
        "id": "I6fVHpArlnOO",
        "colab_type": "code",
        "colab": {
          "base_uri": "https://localhost:8080/",
          "height": 195
        },
        "outputId": "d7add034-9f80-4161-c5fc-c639aa5d3618"
      },
      "source": [
        "pcadf=pd.DataFrame(pca.components_, columns=diabetesdf.columns,index = ['PC-1','PC-2','PC-3','PC-4','PC-5'])\n",
        "pcadf"
      ],
      "execution_count": null,
      "outputs": [
        {
          "output_type": "execute_result",
          "data": {
            "text/html": [
              "<div>\n",
              "<style scoped>\n",
              "    .dataframe tbody tr th:only-of-type {\n",
              "        vertical-align: middle;\n",
              "    }\n",
              "\n",
              "    .dataframe tbody tr th {\n",
              "        vertical-align: top;\n",
              "    }\n",
              "\n",
              "    .dataframe thead th {\n",
              "        text-align: right;\n",
              "    }\n",
              "</style>\n",
              "<table border=\"1\" class=\"dataframe\">\n",
              "  <thead>\n",
              "    <tr style=\"text-align: right;\">\n",
              "      <th></th>\n",
              "      <th>age</th>\n",
              "      <th>sex</th>\n",
              "      <th>bmi</th>\n",
              "      <th>bp</th>\n",
              "      <th>s1</th>\n",
              "      <th>s2</th>\n",
              "      <th>s3</th>\n",
              "      <th>s4</th>\n",
              "      <th>s5</th>\n",
              "      <th>s6</th>\n",
              "    </tr>\n",
              "  </thead>\n",
              "  <tbody>\n",
              "    <tr>\n",
              "      <th>PC-1</th>\n",
              "      <td>0.216431</td>\n",
              "      <td>0.186967</td>\n",
              "      <td>0.303162</td>\n",
              "      <td>0.271740</td>\n",
              "      <td>0.343255</td>\n",
              "      <td>0.351861</td>\n",
              "      <td>-0.282436</td>\n",
              "      <td>0.428833</td>\n",
              "      <td>0.378617</td>\n",
              "      <td>0.322183</td>\n",
              "    </tr>\n",
              "    <tr>\n",
              "      <th>PC-2</th>\n",
              "      <td>0.044372</td>\n",
              "      <td>-0.386548</td>\n",
              "      <td>-0.156281</td>\n",
              "      <td>-0.138256</td>\n",
              "      <td>0.573027</td>\n",
              "      <td>0.455940</td>\n",
              "      <td>0.506243</td>\n",
              "      <td>-0.068184</td>\n",
              "      <td>-0.026189</td>\n",
              "      <td>-0.084947</td>\n",
              "    </tr>\n",
              "    <tr>\n",
              "      <th>PC-3</th>\n",
              "      <td>0.494668</td>\n",
              "      <td>-0.106858</td>\n",
              "      <td>0.167532</td>\n",
              "      <td>0.513568</td>\n",
              "      <td>-0.068587</td>\n",
              "      <td>-0.269694</td>\n",
              "      <td>0.386028</td>\n",
              "      <td>-0.380681</td>\n",
              "      <td>0.063632</td>\n",
              "      <td>0.276843</td>\n",
              "    </tr>\n",
              "    <tr>\n",
              "      <th>PC-4</th>\n",
              "      <td>-0.414009</td>\n",
              "      <td>-0.679861</td>\n",
              "      <td>0.499825</td>\n",
              "      <td>-0.019667</td>\n",
              "      <td>-0.068395</td>\n",
              "      <td>-0.167774</td>\n",
              "      <td>-0.076020</td>\n",
              "      <td>0.007921</td>\n",
              "      <td>0.264427</td>\n",
              "      <td>0.087086</td>\n",
              "    </tr>\n",
              "    <tr>\n",
              "      <th>PC-5</th>\n",
              "      <td>-0.686864</td>\n",
              "      <td>0.373456</td>\n",
              "      <td>0.129359</td>\n",
              "      <td>0.486890</td>\n",
              "      <td>0.129174</td>\n",
              "      <td>0.116731</td>\n",
              "      <td>0.244991</td>\n",
              "      <td>-0.143644</td>\n",
              "      <td>-0.151661</td>\n",
              "      <td>0.031388</td>\n",
              "    </tr>\n",
              "  </tbody>\n",
              "</table>\n",
              "</div>"
            ],
            "text/plain": [
              "           age       sex       bmi  ...        s4        s5        s6\n",
              "PC-1  0.216431  0.186967  0.303162  ...  0.428833  0.378617  0.322183\n",
              "PC-2  0.044372 -0.386548 -0.156281  ... -0.068184 -0.026189 -0.084947\n",
              "PC-3  0.494668 -0.106858  0.167532  ... -0.380681  0.063632  0.276843\n",
              "PC-4 -0.414009 -0.679861  0.499825  ...  0.007921  0.264427  0.087086\n",
              "PC-5 -0.686864  0.373456  0.129359  ... -0.143644 -0.151661  0.031388\n",
              "\n",
              "[5 rows x 10 columns]"
            ]
          },
          "metadata": {
            "tags": []
          },
          "execution_count": 30
        }
      ]
    },
    {
      "cell_type": "code",
      "metadata": {
        "id": "RaXzuG43aP7G",
        "colab_type": "code",
        "colab": {}
      },
      "source": [
        "diabetes_scaled=diabetesdf[['s1','s2','s4','s5','s6']]"
      ],
      "execution_count": null,
      "outputs": []
    },
    {
      "cell_type": "code",
      "metadata": {
        "id": "TPmjdX1-7GWu",
        "colab_type": "code",
        "colab": {
          "base_uri": "https://localhost:8080/",
          "height": 402
        },
        "outputId": "9204058e-bf92-4239-9d2a-6066e9f9ea08"
      },
      "source": [
        "diabetes_scaled"
      ],
      "execution_count": null,
      "outputs": [
        {
          "output_type": "execute_result",
          "data": {
            "text/html": [
              "<div>\n",
              "<style scoped>\n",
              "    .dataframe tbody tr th:only-of-type {\n",
              "        vertical-align: middle;\n",
              "    }\n",
              "\n",
              "    .dataframe tbody tr th {\n",
              "        vertical-align: top;\n",
              "    }\n",
              "\n",
              "    .dataframe thead th {\n",
              "        text-align: right;\n",
              "    }\n",
              "</style>\n",
              "<table border=\"1\" class=\"dataframe\">\n",
              "  <thead>\n",
              "    <tr style=\"text-align: right;\">\n",
              "      <th></th>\n",
              "      <th>s1</th>\n",
              "      <th>s2</th>\n",
              "      <th>s4</th>\n",
              "      <th>s5</th>\n",
              "      <th>s6</th>\n",
              "    </tr>\n",
              "  </thead>\n",
              "  <tbody>\n",
              "    <tr>\n",
              "      <th>0</th>\n",
              "      <td>-0.044223</td>\n",
              "      <td>-0.034821</td>\n",
              "      <td>-0.002592</td>\n",
              "      <td>0.019908</td>\n",
              "      <td>-0.017646</td>\n",
              "    </tr>\n",
              "    <tr>\n",
              "      <th>1</th>\n",
              "      <td>-0.008449</td>\n",
              "      <td>-0.019163</td>\n",
              "      <td>-0.039493</td>\n",
              "      <td>-0.068330</td>\n",
              "      <td>-0.092204</td>\n",
              "    </tr>\n",
              "    <tr>\n",
              "      <th>2</th>\n",
              "      <td>-0.045599</td>\n",
              "      <td>-0.034194</td>\n",
              "      <td>-0.002592</td>\n",
              "      <td>0.002864</td>\n",
              "      <td>-0.025930</td>\n",
              "    </tr>\n",
              "    <tr>\n",
              "      <th>3</th>\n",
              "      <td>0.012191</td>\n",
              "      <td>0.024991</td>\n",
              "      <td>0.034309</td>\n",
              "      <td>0.022692</td>\n",
              "      <td>-0.009362</td>\n",
              "    </tr>\n",
              "    <tr>\n",
              "      <th>4</th>\n",
              "      <td>0.003935</td>\n",
              "      <td>0.015596</td>\n",
              "      <td>-0.002592</td>\n",
              "      <td>-0.031991</td>\n",
              "      <td>-0.046641</td>\n",
              "    </tr>\n",
              "    <tr>\n",
              "      <th>...</th>\n",
              "      <td>...</td>\n",
              "      <td>...</td>\n",
              "      <td>...</td>\n",
              "      <td>...</td>\n",
              "      <td>...</td>\n",
              "    </tr>\n",
              "    <tr>\n",
              "      <th>437</th>\n",
              "      <td>-0.005697</td>\n",
              "      <td>-0.002566</td>\n",
              "      <td>-0.002592</td>\n",
              "      <td>0.031193</td>\n",
              "      <td>0.007207</td>\n",
              "    </tr>\n",
              "    <tr>\n",
              "      <th>438</th>\n",
              "      <td>0.049341</td>\n",
              "      <td>0.079165</td>\n",
              "      <td>0.034309</td>\n",
              "      <td>-0.018118</td>\n",
              "      <td>0.044485</td>\n",
              "    </tr>\n",
              "    <tr>\n",
              "      <th>439</th>\n",
              "      <td>-0.037344</td>\n",
              "      <td>-0.013840</td>\n",
              "      <td>-0.011080</td>\n",
              "      <td>-0.046879</td>\n",
              "      <td>0.015491</td>\n",
              "    </tr>\n",
              "    <tr>\n",
              "      <th>440</th>\n",
              "      <td>0.016318</td>\n",
              "      <td>0.015283</td>\n",
              "      <td>0.026560</td>\n",
              "      <td>0.044528</td>\n",
              "      <td>-0.025930</td>\n",
              "    </tr>\n",
              "    <tr>\n",
              "      <th>441</th>\n",
              "      <td>0.083740</td>\n",
              "      <td>0.027809</td>\n",
              "      <td>-0.039493</td>\n",
              "      <td>-0.004220</td>\n",
              "      <td>0.003064</td>\n",
              "    </tr>\n",
              "  </tbody>\n",
              "</table>\n",
              "<p>442 rows × 5 columns</p>\n",
              "</div>"
            ],
            "text/plain": [
              "           s1        s2        s4        s5        s6\n",
              "0   -0.044223 -0.034821 -0.002592  0.019908 -0.017646\n",
              "1   -0.008449 -0.019163 -0.039493 -0.068330 -0.092204\n",
              "2   -0.045599 -0.034194 -0.002592  0.002864 -0.025930\n",
              "3    0.012191  0.024991  0.034309  0.022692 -0.009362\n",
              "4    0.003935  0.015596 -0.002592 -0.031991 -0.046641\n",
              "..        ...       ...       ...       ...       ...\n",
              "437 -0.005697 -0.002566 -0.002592  0.031193  0.007207\n",
              "438  0.049341  0.079165  0.034309 -0.018118  0.044485\n",
              "439 -0.037344 -0.013840 -0.011080 -0.046879  0.015491\n",
              "440  0.016318  0.015283  0.026560  0.044528 -0.025930\n",
              "441  0.083740  0.027809 -0.039493 -0.004220  0.003064\n",
              "\n",
              "[442 rows x 5 columns]"
            ]
          },
          "metadata": {
            "tags": []
          },
          "execution_count": 32
        }
      ]
    },
    {
      "cell_type": "code",
      "metadata": {
        "id": "KNuX68HALQ_n",
        "colab_type": "code",
        "colab": {}
      },
      "source": [
        "from sklearn.model_selection import train_test_split\n",
        "trainset,testset= train_test_split(diabetes_scaled, test_size=0.2, random_state=0)"
      ],
      "execution_count": null,
      "outputs": []
    },
    {
      "cell_type": "code",
      "metadata": {
        "id": "4yLggvsslHS8",
        "colab_type": "code",
        "colab": {
          "base_uri": "https://localhost:8080/",
          "height": 402
        },
        "outputId": "beef78c5-8a46-4da4-b29a-9114ac28513c"
      },
      "source": [
        "trainset"
      ],
      "execution_count": null,
      "outputs": [
        {
          "output_type": "execute_result",
          "data": {
            "text/html": [
              "<div>\n",
              "<style scoped>\n",
              "    .dataframe tbody tr th:only-of-type {\n",
              "        vertical-align: middle;\n",
              "    }\n",
              "\n",
              "    .dataframe tbody tr th {\n",
              "        vertical-align: top;\n",
              "    }\n",
              "\n",
              "    .dataframe thead th {\n",
              "        text-align: right;\n",
              "    }\n",
              "</style>\n",
              "<table border=\"1\" class=\"dataframe\">\n",
              "  <thead>\n",
              "    <tr style=\"text-align: right;\">\n",
              "      <th></th>\n",
              "      <th>age</th>\n",
              "      <th>sex</th>\n",
              "      <th>bmi</th>\n",
              "      <th>bp</th>\n",
              "      <th>s1</th>\n",
              "      <th>s2</th>\n",
              "      <th>s3</th>\n",
              "      <th>s4</th>\n",
              "      <th>s5</th>\n",
              "      <th>s6</th>\n",
              "    </tr>\n",
              "  </thead>\n",
              "  <tbody>\n",
              "    <tr>\n",
              "      <th>74</th>\n",
              "      <td>0.012648</td>\n",
              "      <td>0.050680</td>\n",
              "      <td>0.002417</td>\n",
              "      <td>0.056301</td>\n",
              "      <td>0.027326</td>\n",
              "      <td>0.017162</td>\n",
              "      <td>0.041277</td>\n",
              "      <td>-0.039493</td>\n",
              "      <td>0.003712</td>\n",
              "      <td>0.073480</td>\n",
              "    </tr>\n",
              "    <tr>\n",
              "      <th>26</th>\n",
              "      <td>-0.107226</td>\n",
              "      <td>-0.044642</td>\n",
              "      <td>-0.077342</td>\n",
              "      <td>-0.026328</td>\n",
              "      <td>-0.089630</td>\n",
              "      <td>-0.096198</td>\n",
              "      <td>0.026550</td>\n",
              "      <td>-0.076395</td>\n",
              "      <td>-0.042572</td>\n",
              "      <td>-0.005220</td>\n",
              "    </tr>\n",
              "    <tr>\n",
              "      <th>45</th>\n",
              "      <td>0.027178</td>\n",
              "      <td>0.050680</td>\n",
              "      <td>-0.035307</td>\n",
              "      <td>0.032201</td>\n",
              "      <td>-0.011201</td>\n",
              "      <td>0.001504</td>\n",
              "      <td>-0.010266</td>\n",
              "      <td>-0.002592</td>\n",
              "      <td>-0.014956</td>\n",
              "      <td>-0.050783</td>\n",
              "    </tr>\n",
              "    <tr>\n",
              "      <th>389</th>\n",
              "      <td>-0.005515</td>\n",
              "      <td>0.050680</td>\n",
              "      <td>0.001339</td>\n",
              "      <td>-0.084857</td>\n",
              "      <td>-0.011201</td>\n",
              "      <td>-0.016658</td>\n",
              "      <td>0.048640</td>\n",
              "      <td>-0.039493</td>\n",
              "      <td>-0.041180</td>\n",
              "      <td>-0.088062</td>\n",
              "    </tr>\n",
              "    <tr>\n",
              "      <th>154</th>\n",
              "      <td>0.067136</td>\n",
              "      <td>0.050680</td>\n",
              "      <td>0.020739</td>\n",
              "      <td>-0.005671</td>\n",
              "      <td>0.020446</td>\n",
              "      <td>0.026243</td>\n",
              "      <td>-0.002903</td>\n",
              "      <td>-0.002592</td>\n",
              "      <td>0.008640</td>\n",
              "      <td>0.003064</td>\n",
              "    </tr>\n",
              "    <tr>\n",
              "      <th>...</th>\n",
              "      <td>...</td>\n",
              "      <td>...</td>\n",
              "      <td>...</td>\n",
              "      <td>...</td>\n",
              "      <td>...</td>\n",
              "      <td>...</td>\n",
              "      <td>...</td>\n",
              "      <td>...</td>\n",
              "      <td>...</td>\n",
              "      <td>...</td>\n",
              "    </tr>\n",
              "    <tr>\n",
              "      <th>323</th>\n",
              "      <td>0.070769</td>\n",
              "      <td>0.050680</td>\n",
              "      <td>-0.007284</td>\n",
              "      <td>0.049415</td>\n",
              "      <td>0.060349</td>\n",
              "      <td>-0.004445</td>\n",
              "      <td>-0.054446</td>\n",
              "      <td>0.108111</td>\n",
              "      <td>0.129019</td>\n",
              "      <td>0.056912</td>\n",
              "    </tr>\n",
              "    <tr>\n",
              "      <th>192</th>\n",
              "      <td>0.056239</td>\n",
              "      <td>0.050680</td>\n",
              "      <td>-0.030996</td>\n",
              "      <td>0.008101</td>\n",
              "      <td>0.019070</td>\n",
              "      <td>0.021233</td>\n",
              "      <td>0.033914</td>\n",
              "      <td>-0.039493</td>\n",
              "      <td>-0.029528</td>\n",
              "      <td>-0.059067</td>\n",
              "    </tr>\n",
              "    <tr>\n",
              "      <th>117</th>\n",
              "      <td>0.059871</td>\n",
              "      <td>-0.044642</td>\n",
              "      <td>-0.021295</td>\n",
              "      <td>0.087287</td>\n",
              "      <td>0.045213</td>\n",
              "      <td>0.031567</td>\n",
              "      <td>-0.047082</td>\n",
              "      <td>0.071210</td>\n",
              "      <td>0.079121</td>\n",
              "      <td>0.135612</td>\n",
              "    </tr>\n",
              "    <tr>\n",
              "      <th>47</th>\n",
              "      <td>-0.078165</td>\n",
              "      <td>-0.044642</td>\n",
              "      <td>-0.073030</td>\n",
              "      <td>-0.057314</td>\n",
              "      <td>-0.084126</td>\n",
              "      <td>-0.074277</td>\n",
              "      <td>-0.024993</td>\n",
              "      <td>-0.039493</td>\n",
              "      <td>-0.018118</td>\n",
              "      <td>-0.083920</td>\n",
              "    </tr>\n",
              "    <tr>\n",
              "      <th>172</th>\n",
              "      <td>0.041708</td>\n",
              "      <td>0.050680</td>\n",
              "      <td>0.071397</td>\n",
              "      <td>0.008101</td>\n",
              "      <td>0.038334</td>\n",
              "      <td>0.015909</td>\n",
              "      <td>-0.017629</td>\n",
              "      <td>0.034309</td>\n",
              "      <td>0.073410</td>\n",
              "      <td>0.085907</td>\n",
              "    </tr>\n",
              "  </tbody>\n",
              "</table>\n",
              "<p>353 rows × 10 columns</p>\n",
              "</div>"
            ],
            "text/plain": [
              "          age       sex       bmi  ...        s4        s5        s6\n",
              "74   0.012648  0.050680  0.002417  ... -0.039493  0.003712  0.073480\n",
              "26  -0.107226 -0.044642 -0.077342  ... -0.076395 -0.042572 -0.005220\n",
              "45   0.027178  0.050680 -0.035307  ... -0.002592 -0.014956 -0.050783\n",
              "389 -0.005515  0.050680  0.001339  ... -0.039493 -0.041180 -0.088062\n",
              "154  0.067136  0.050680  0.020739  ... -0.002592  0.008640  0.003064\n",
              "..        ...       ...       ...  ...       ...       ...       ...\n",
              "323  0.070769  0.050680 -0.007284  ...  0.108111  0.129019  0.056912\n",
              "192  0.056239  0.050680 -0.030996  ... -0.039493 -0.029528 -0.059067\n",
              "117  0.059871 -0.044642 -0.021295  ...  0.071210  0.079121  0.135612\n",
              "47  -0.078165 -0.044642 -0.073030  ... -0.039493 -0.018118 -0.083920\n",
              "172  0.041708  0.050680  0.071397  ...  0.034309  0.073410  0.085907\n",
              "\n",
              "[353 rows x 10 columns]"
            ]
          },
          "metadata": {
            "tags": []
          },
          "execution_count": 11
        }
      ]
    },
    {
      "cell_type": "code",
      "metadata": {
        "id": "_G5XpnI2LXzA",
        "colab_type": "code",
        "colab": {
          "base_uri": "https://localhost:8080/",
          "height": 337
        },
        "outputId": "339805e7-ad51-47b5-ed79-5b0db9d0155c"
      },
      "source": [
        "model = LinearRegression()\n",
        "model.fit(trainset, testset)\n",
        "model.coef_ "
      ],
      "execution_count": null,
      "outputs": [
        {
          "output_type": "error",
          "ename": "ValueError",
          "evalue": "ignored",
          "traceback": [
            "\u001b[0;31m---------------------------------------------------------------------------\u001b[0m",
            "\u001b[0;31mValueError\u001b[0m                                Traceback (most recent call last)",
            "\u001b[0;32m<ipython-input-10-763ecab7c6d3>\u001b[0m in \u001b[0;36m<module>\u001b[0;34m()\u001b[0m\n\u001b[1;32m      1\u001b[0m \u001b[0mmodel\u001b[0m \u001b[0;34m=\u001b[0m \u001b[0mLinearRegression\u001b[0m\u001b[0;34m(\u001b[0m\u001b[0;34m)\u001b[0m\u001b[0;34m\u001b[0m\u001b[0;34m\u001b[0m\u001b[0m\n\u001b[0;32m----> 2\u001b[0;31m \u001b[0mmodel\u001b[0m\u001b[0;34m.\u001b[0m\u001b[0mfit\u001b[0m\u001b[0;34m(\u001b[0m\u001b[0mtrainset\u001b[0m\u001b[0;34m,\u001b[0m \u001b[0mtestset\u001b[0m\u001b[0;34m)\u001b[0m\u001b[0;34m\u001b[0m\u001b[0;34m\u001b[0m\u001b[0m\n\u001b[0m\u001b[1;32m      3\u001b[0m \u001b[0mmodel\u001b[0m\u001b[0;34m.\u001b[0m\u001b[0mcoef_\u001b[0m\u001b[0;34m\u001b[0m\u001b[0;34m\u001b[0m\u001b[0m\n",
            "\u001b[0;32m/usr/local/lib/python3.6/dist-packages/sklearn/linear_model/_base.py\u001b[0m in \u001b[0;36mfit\u001b[0;34m(self, X, y, sample_weight)\u001b[0m\n\u001b[1;32m    490\u001b[0m         \u001b[0mn_jobs_\u001b[0m \u001b[0;34m=\u001b[0m \u001b[0mself\u001b[0m\u001b[0;34m.\u001b[0m\u001b[0mn_jobs\u001b[0m\u001b[0;34m\u001b[0m\u001b[0;34m\u001b[0m\u001b[0m\n\u001b[1;32m    491\u001b[0m         X, y = check_X_y(X, y, accept_sparse=['csr', 'csc', 'coo'],\n\u001b[0;32m--> 492\u001b[0;31m                          y_numeric=True, multi_output=True)\n\u001b[0m\u001b[1;32m    493\u001b[0m \u001b[0;34m\u001b[0m\u001b[0m\n\u001b[1;32m    494\u001b[0m         \u001b[0;32mif\u001b[0m \u001b[0msample_weight\u001b[0m \u001b[0;32mis\u001b[0m \u001b[0;32mnot\u001b[0m \u001b[0;32mNone\u001b[0m\u001b[0;34m:\u001b[0m\u001b[0;34m\u001b[0m\u001b[0;34m\u001b[0m\u001b[0m\n",
            "\u001b[0;32m/usr/local/lib/python3.6/dist-packages/sklearn/utils/validation.py\u001b[0m in \u001b[0;36mcheck_X_y\u001b[0;34m(X, y, accept_sparse, accept_large_sparse, dtype, order, copy, force_all_finite, ensure_2d, allow_nd, multi_output, ensure_min_samples, ensure_min_features, y_numeric, warn_on_dtype, estimator)\u001b[0m\n\u001b[1;32m    763\u001b[0m         \u001b[0my\u001b[0m \u001b[0;34m=\u001b[0m \u001b[0my\u001b[0m\u001b[0;34m.\u001b[0m\u001b[0mastype\u001b[0m\u001b[0;34m(\u001b[0m\u001b[0mnp\u001b[0m\u001b[0;34m.\u001b[0m\u001b[0mfloat64\u001b[0m\u001b[0;34m)\u001b[0m\u001b[0;34m\u001b[0m\u001b[0;34m\u001b[0m\u001b[0m\n\u001b[1;32m    764\u001b[0m \u001b[0;34m\u001b[0m\u001b[0m\n\u001b[0;32m--> 765\u001b[0;31m     \u001b[0mcheck_consistent_length\u001b[0m\u001b[0;34m(\u001b[0m\u001b[0mX\u001b[0m\u001b[0;34m,\u001b[0m \u001b[0my\u001b[0m\u001b[0;34m)\u001b[0m\u001b[0;34m\u001b[0m\u001b[0;34m\u001b[0m\u001b[0m\n\u001b[0m\u001b[1;32m    766\u001b[0m \u001b[0;34m\u001b[0m\u001b[0m\n\u001b[1;32m    767\u001b[0m     \u001b[0;32mreturn\u001b[0m \u001b[0mX\u001b[0m\u001b[0;34m,\u001b[0m \u001b[0my\u001b[0m\u001b[0;34m\u001b[0m\u001b[0;34m\u001b[0m\u001b[0m\n",
            "\u001b[0;32m/usr/local/lib/python3.6/dist-packages/sklearn/utils/validation.py\u001b[0m in \u001b[0;36mcheck_consistent_length\u001b[0;34m(*arrays)\u001b[0m\n\u001b[1;32m    210\u001b[0m     \u001b[0;32mif\u001b[0m \u001b[0mlen\u001b[0m\u001b[0;34m(\u001b[0m\u001b[0muniques\u001b[0m\u001b[0;34m)\u001b[0m \u001b[0;34m>\u001b[0m \u001b[0;36m1\u001b[0m\u001b[0;34m:\u001b[0m\u001b[0;34m\u001b[0m\u001b[0;34m\u001b[0m\u001b[0m\n\u001b[1;32m    211\u001b[0m         raise ValueError(\"Found input variables with inconsistent numbers of\"\n\u001b[0;32m--> 212\u001b[0;31m                          \" samples: %r\" % [int(l) for l in lengths])\n\u001b[0m\u001b[1;32m    213\u001b[0m \u001b[0;34m\u001b[0m\u001b[0m\n\u001b[1;32m    214\u001b[0m \u001b[0;34m\u001b[0m\u001b[0m\n",
            "\u001b[0;31mValueError\u001b[0m: Found input variables with inconsistent numbers of samples: [353, 89]"
          ]
        }
      ]
    },
    {
      "cell_type": "code",
      "metadata": {
        "id": "r6S7dQBBLcod",
        "colab_type": "code",
        "colab": {}
      },
      "source": [
        ""
      ],
      "execution_count": null,
      "outputs": []
    }
  ]
}