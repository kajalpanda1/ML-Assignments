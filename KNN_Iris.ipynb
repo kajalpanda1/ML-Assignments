{
  "nbformat": 4,
  "nbformat_minor": 0,
  "metadata": {
    "colab": {
      "name": "KNN-Iris.ipynb",
      "provenance": [],
      "collapsed_sections": [],
      "authorship_tag": "ABX9TyOq7Dk1lW6agu4GUsFdjv99",
      "include_colab_link": true
    },
    "kernelspec": {
      "name": "python3",
      "display_name": "Python 3"
    }
  },
  "cells": [
    {
      "cell_type": "markdown",
      "metadata": {
        "id": "view-in-github",
        "colab_type": "text"
      },
      "source": [
        "<a href=\"https://colab.research.google.com/github/kajalpanda1/ML-Assignments/blob/master/KNN_Iris.ipynb\" target=\"_parent\"><img src=\"https://colab.research.google.com/assets/colab-badge.svg\" alt=\"Open In Colab\"/></a>"
      ]
    },
    {
      "cell_type": "code",
      "metadata": {
        "id": "4993YnOUcNDU",
        "colab_type": "code",
        "colab": {
          "base_uri": "https://localhost:8080/",
          "height": 70
        },
        "outputId": "e9da2983-d607-4f1c-ad81-c016db32f21f"
      },
      "source": [
        "import numpy as np\n",
        "import pandas as pd\n",
        "from sklearn.neighbors import KNeighborsClassifier\n",
        "from sklearn.model_selection import train_test_split\n",
        "import seaborn as sns\n",
        "import matplotlib.pyplot as plt  "
      ],
      "execution_count": null,
      "outputs": [
        {
          "output_type": "stream",
          "text": [
            "/usr/local/lib/python3.6/dist-packages/statsmodels/tools/_testing.py:19: FutureWarning: pandas.util.testing is deprecated. Use the functions in the public API at pandas.testing instead.\n",
            "  import pandas.util.testing as tm\n"
          ],
          "name": "stderr"
        }
      ]
    },
    {
      "cell_type": "code",
      "metadata": {
        "id": "09cWWIS-i--X",
        "colab_type": "code",
        "colab": {}
      },
      "source": [
        "iris_df=pd.read_csv('https://raw.githubusercontent.com/kajalpanda1/DatasetRepository/master/Iris.csv',header=None)"
      ],
      "execution_count": null,
      "outputs": []
    },
    {
      "cell_type": "code",
      "metadata": {
        "id": "0e_fls9Yj_It",
        "colab_type": "code",
        "colab": {
          "base_uri": "https://localhost:8080/",
          "height": 195
        },
        "outputId": "3594aa81-6145-4ded-e57b-595c5cfa124a"
      },
      "source": [
        "iris_df.head()"
      ],
      "execution_count": null,
      "outputs": [
        {
          "output_type": "execute_result",
          "data": {
            "text/html": [
              "<div>\n",
              "<style scoped>\n",
              "    .dataframe tbody tr th:only-of-type {\n",
              "        vertical-align: middle;\n",
              "    }\n",
              "\n",
              "    .dataframe tbody tr th {\n",
              "        vertical-align: top;\n",
              "    }\n",
              "\n",
              "    .dataframe thead th {\n",
              "        text-align: right;\n",
              "    }\n",
              "</style>\n",
              "<table border=\"1\" class=\"dataframe\">\n",
              "  <thead>\n",
              "    <tr style=\"text-align: right;\">\n",
              "      <th></th>\n",
              "      <th>0</th>\n",
              "      <th>1</th>\n",
              "      <th>2</th>\n",
              "      <th>3</th>\n",
              "      <th>4</th>\n",
              "    </tr>\n",
              "  </thead>\n",
              "  <tbody>\n",
              "    <tr>\n",
              "      <th>0</th>\n",
              "      <td>5.1</td>\n",
              "      <td>3.5</td>\n",
              "      <td>1.4</td>\n",
              "      <td>0.2</td>\n",
              "      <td>Iris-setosa</td>\n",
              "    </tr>\n",
              "    <tr>\n",
              "      <th>1</th>\n",
              "      <td>4.9</td>\n",
              "      <td>3.0</td>\n",
              "      <td>1.4</td>\n",
              "      <td>0.2</td>\n",
              "      <td>Iris-setosa</td>\n",
              "    </tr>\n",
              "    <tr>\n",
              "      <th>2</th>\n",
              "      <td>4.7</td>\n",
              "      <td>3.2</td>\n",
              "      <td>1.3</td>\n",
              "      <td>0.2</td>\n",
              "      <td>Iris-setosa</td>\n",
              "    </tr>\n",
              "    <tr>\n",
              "      <th>3</th>\n",
              "      <td>4.6</td>\n",
              "      <td>3.1</td>\n",
              "      <td>1.5</td>\n",
              "      <td>0.2</td>\n",
              "      <td>Iris-setosa</td>\n",
              "    </tr>\n",
              "    <tr>\n",
              "      <th>4</th>\n",
              "      <td>5.0</td>\n",
              "      <td>3.6</td>\n",
              "      <td>1.4</td>\n",
              "      <td>0.2</td>\n",
              "      <td>Iris-setosa</td>\n",
              "    </tr>\n",
              "  </tbody>\n",
              "</table>\n",
              "</div>"
            ],
            "text/plain": [
              "     0    1    2    3            4\n",
              "0  5.1  3.5  1.4  0.2  Iris-setosa\n",
              "1  4.9  3.0  1.4  0.2  Iris-setosa\n",
              "2  4.7  3.2  1.3  0.2  Iris-setosa\n",
              "3  4.6  3.1  1.5  0.2  Iris-setosa\n",
              "4  5.0  3.6  1.4  0.2  Iris-setosa"
            ]
          },
          "metadata": {
            "tags": []
          },
          "execution_count": 6
        }
      ]
    },
    {
      "cell_type": "code",
      "metadata": {
        "id": "iA_qRypCe6g9",
        "colab_type": "code",
        "colab": {}
      },
      "source": [
        "iris_df_columns=['Sepal_Length', 'Sepal_Width', 'Petal_Length', 'Petal_Width','Class']\n",
        "feature_names=['Sepal_Length', 'Sepal_Width', 'Petal_Length', 'Petal_Width']"
      ],
      "execution_count": null,
      "outputs": []
    },
    {
      "cell_type": "code",
      "metadata": {
        "id": "KI3BghELkhB6",
        "colab_type": "code",
        "colab": {}
      },
      "source": [
        "X=iris_df.values[:,0:4]\n",
        "Y=iris_df.values[:,4]"
      ],
      "execution_count": null,
      "outputs": []
    },
    {
      "cell_type": "code",
      "metadata": {
        "id": "mIO-j1p-iD-V",
        "colab_type": "code",
        "colab": {}
      },
      "source": [
        "X_train, X_test, Y_train, Y_test = train_test_split(X, Y, test_size = 0.3, random_state = 0)"
      ],
      "execution_count": null,
      "outputs": []
    },
    {
      "cell_type": "code",
      "metadata": {
        "id": "36XF2t2qiGg1",
        "colab_type": "code",
        "colab": {}
      },
      "source": [
        "#Trainig the model for different values of k\n",
        "K = [] \n",
        "training = [] \n",
        "test = [] \n",
        "scores = {} \n",
        "  \n",
        "for k in range(2, 21): \n",
        "    clf = KNeighborsClassifier(n_neighbors = k) \n",
        "    clf.fit(X_train, Y_train) \n",
        "  \n",
        "    training_score = clf.score(X_train, Y_train) \n",
        "    test_score = clf.score(X_test, Y_test) \n",
        "    K.append(k) \n",
        "  \n",
        "    training.append(training_score) \n",
        "    test.append(test_score) \n",
        "    scores[k] = [training_score, test_score] "
      ],
      "execution_count": null,
      "outputs": []
    },
    {
      "cell_type": "code",
      "metadata": {
        "id": "HQic_or9lAVj",
        "colab_type": "code",
        "colab": {
          "base_uri": "https://localhost:8080/",
          "height": 336
        },
        "outputId": "bd9b8a69-a75f-49eb-bed7-4482649b0cf8"
      },
      "source": [
        "#Evaluating the model\n",
        "for keys, values in scores.items(): \n",
        "    print(keys, ':', values) "
      ],
      "execution_count": null,
      "outputs": [
        {
          "output_type": "stream",
          "text": [
            "2 : [0.9619047619047619, 0.9777777777777777]\n",
            "3 : [0.9619047619047619, 0.9777777777777777]\n",
            "4 : [0.9714285714285714, 0.9777777777777777]\n",
            "5 : [0.9714285714285714, 0.9777777777777777]\n",
            "6 : [0.9619047619047619, 0.9777777777777777]\n",
            "7 : [0.9714285714285714, 0.9777777777777777]\n",
            "8 : [0.9714285714285714, 0.9777777777777777]\n",
            "9 : [0.9619047619047619, 0.9777777777777777]\n",
            "10 : [0.9714285714285714, 0.9777777777777777]\n",
            "11 : [0.9619047619047619, 0.9777777777777777]\n",
            "12 : [0.9714285714285714, 0.9777777777777777]\n",
            "13 : [0.9619047619047619, 0.9777777777777777]\n",
            "14 : [0.9619047619047619, 0.9777777777777777]\n",
            "15 : [0.9619047619047619, 0.9777777777777777]\n",
            "16 : [0.9619047619047619, 0.9777777777777777]\n",
            "17 : [0.9619047619047619, 0.9777777777777777]\n",
            "18 : [0.9619047619047619, 0.9777777777777777]\n",
            "19 : [0.9619047619047619, 0.9777777777777777]\n",
            "20 : [0.9619047619047619, 0.9777777777777777]\n"
          ],
          "name": "stdout"
        }
      ]
    },
    {
      "cell_type": "code",
      "metadata": {
        "id": "zkS8m619lEpF",
        "colab_type": "code",
        "colab": {
          "base_uri": "https://localhost:8080/",
          "height": 279
        },
        "outputId": "54d3ec13-9ae7-4dfe-ae76-322c384dcb01"
      },
      "source": [
        "#Plotting the different values of k and the training score\n",
        "ax = sns.stripplot(K, training); \n",
        "ax.set(xlabel ='values of k', ylabel ='Training Score')   \n",
        "\n",
        "# function to show plot \n",
        "plt.show() "
      ],
      "execution_count": null,
      "outputs": [
        {
          "output_type": "display_data",
          "data": {
            "image/png": "[encoded data removed]",
            "text/plain": [
              "<Figure size 432x288 with 1 Axes>"
            ]
          },
          "metadata": {
            "tags": [],
            "needs_background": "light"
          }
        }
      ]
    },
    {
      "cell_type": "code",
      "metadata": {
        "id": "TgYhheaElaPv",
        "colab_type": "code",
        "colab": {
          "base_uri": "https://localhost:8080/",
          "height": 279
        },
        "outputId": "c69738a9-cda3-4486-eec7-b6231ca7f8ef"
      },
      "source": [
        "#Plotting the different values of k and the testing score\n",
        "ax = sns.stripplot(K, test); \n",
        "ax.set(xlabel ='values of k', ylabel ='Test Score') \n",
        "plt.show() "
      ],
      "execution_count": null,
      "outputs": [
        {
          "output_type": "display_data",
          "data": {
            "image/png": "[encoded data removed]",
            "text/plain": [
              "<Figure size 432x288 with 1 Axes>"
            ]
          },
          "metadata": {
            "tags": [],
            "needs_background": "light"
          }
        }
      ]
    },
    {
      "cell_type": "code",
      "metadata": {
        "id": "Q8GFpycQiTbz",
        "colab_type": "code",
        "colab": {
          "base_uri": "https://localhost:8080/",
          "height": 265
        },
        "outputId": "d40fb222-4be9-49ff-9819-1b3dff6bf85f"
      },
      "source": [
        "#Plotting training and testing scores\n",
        "plt.scatter(K, training, color ='k') \n",
        "plt.scatter(K, test, color ='g') \n",
        "plt.show() "
      ],
      "execution_count": null,
      "outputs": [
        {
          "output_type": "display_data",
          "data": {
            "image/png": "[encoded data removed]",
            "text/plain": [
              "<Figure size 432x288 with 1 Axes>"
            ]
          },
          "metadata": {
            "tags": [],
            "needs_background": "light"
          }
        }
      ]
    },
    {
      "cell_type": "code",
      "metadata": {
        "id": "kZsdPvo3lMro",
        "colab_type": "code",
        "colab": {}
      },
      "source": [
        ""
      ],
      "execution_count": null,
      "outputs": []
    }
  ]
}