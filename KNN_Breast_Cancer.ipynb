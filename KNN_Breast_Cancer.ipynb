{
  "nbformat": 4,
  "nbformat_minor": 0,
  "metadata": {
    "colab": {
      "name": "KNN-Breast_Cancer.ipynb",
      "provenance": [],
      "collapsed_sections": [],
      "authorship_tag": "ABX9TyPhJpef4IEbnOYuboNX9FQg",
      "include_colab_link": true
    },
    "kernelspec": {
      "name": "python3",
      "display_name": "Python 3"
    }
  },
  "cells": [
    {
      "cell_type": "markdown",
      "metadata": {
        "id": "view-in-github",
        "colab_type": "text"
      },
      "source": [
        "<a href=\"https://colab.research.google.com/github/kajalpanda1/ML-Assignments/blob/master/KNN_Breast_Cancer.ipynb\" target=\"_parent\"><img src=\"https://colab.research.google.com/assets/colab-badge.svg\" alt=\"Open In Colab\"/></a>"
      ]
    },
    {
      "cell_type": "code",
      "metadata": {
        "id": "4993YnOUcNDU",
        "colab_type": "code",
        "colab": {}
      },
      "source": [
        "import numpy as np\n",
        "import pandas as pd\n",
        "from sklearn.neighbors import KNeighborsClassifier\n",
        "from sklearn.model_selection import train_test_split\n",
        "import seaborn as sns\n",
        "import matplotlib.pyplot as plt  "
      ],
      "execution_count": null,
      "outputs": []
    },
    {
      "cell_type": "code",
      "metadata": {
        "id": "Moz7vw1OcbCc",
        "colab_type": "code",
        "colab": {}
      },
      "source": [
        "df=pd.read_csv('https://raw.githubusercontent.com/kajalpanda1/DatasetRepository/master/Breast_Cancer_Dataset.csv')"
      ],
      "execution_count": null,
      "outputs": []
    },
    {
      "cell_type": "code",
      "metadata": {
        "id": "ouXj5tfVef9I",
        "colab_type": "code",
        "colab": {}
      },
      "source": [
        "y = df['diagnosis'] \n",
        "X = df.drop('diagnosis', axis = 1) \n",
        "X = X.drop('Unnamed: 32', axis = 1) \n",
        "X = X.drop('id', axis = 1) "
      ],
      "execution_count": null,
      "outputs": []
    },
    {
      "cell_type": "code",
      "metadata": {
        "id": "mIO-j1p-iD-V",
        "colab_type": "code",
        "colab": {}
      },
      "source": [
        "X_train, X_test, y_train, y_test = train_test_split(X, y, test_size = 0.3, random_state = 0)"
      ],
      "execution_count": null,
      "outputs": []
    },
    {
      "cell_type": "code",
      "metadata": {
        "id": "36XF2t2qiGg1",
        "colab_type": "code",
        "colab": {}
      },
      "source": [
        "#Trainig the model for different values of k\n",
        "K = [] \n",
        "training = [] \n",
        "test = [] \n",
        "scores = {} \n",
        "  \n",
        "for k in range(2, 21): \n",
        "    clf = KNeighborsClassifier(n_neighbors = k) \n",
        "    clf.fit(X_train, y_train) \n",
        "  \n",
        "    training_score = clf.score(X_train, y_train) \n",
        "    test_score = clf.score(X_test, y_test) \n",
        "    K.append(k) \n",
        "  \n",
        "    training.append(training_score) \n",
        "    test.append(test_score) \n",
        "    scores[k] = [training_score, test_score] "
      ],
      "execution_count": null,
      "outputs": []
    },
    {
      "cell_type": "code",
      "metadata": {
        "id": "QAAgRaEliJ9d",
        "colab_type": "code",
        "colab": {
          "base_uri": "https://localhost:8080/",
          "height": 336
        },
        "outputId": "6814c6b2-be9c-41d3-930d-2456106bf8e2"
      },
      "source": [
        "#Evaluating the model\n",
        "for keys, values in scores.items(): \n",
        "    print(keys, ':', values) "
      ],
      "execution_count": null,
      "outputs": [
        {
          "output_type": "stream",
          "text": [
            "2 : [0.9447236180904522, 0.9298245614035088]\n",
            "3 : [0.9522613065326633, 0.9181286549707602]\n",
            "4 : [0.9447236180904522, 0.9298245614035088]\n",
            "5 : [0.9396984924623115, 0.9473684210526315]\n",
            "6 : [0.9371859296482412, 0.9473684210526315]\n",
            "7 : [0.9371859296482412, 0.9532163742690059]\n",
            "8 : [0.9321608040201005, 0.9532163742690059]\n",
            "9 : [0.9321608040201005, 0.9590643274853801]\n",
            "10 : [0.9321608040201005, 0.9649122807017544]\n",
            "11 : [0.9346733668341709, 0.9649122807017544]\n",
            "12 : [0.9321608040201005, 0.9649122807017544]\n",
            "13 : [0.9296482412060302, 0.9649122807017544]\n",
            "14 : [0.9296482412060302, 0.9649122807017544]\n",
            "15 : [0.9321608040201005, 0.9649122807017544]\n",
            "16 : [0.9271356783919598, 0.9649122807017544]\n",
            "17 : [0.9321608040201005, 0.9649122807017544]\n",
            "18 : [0.9221105527638191, 0.9649122807017544]\n",
            "19 : [0.9246231155778895, 0.9649122807017544]\n",
            "20 : [0.9170854271356784, 0.9649122807017544]\n"
          ],
          "name": "stdout"
        }
      ]
    },
    {
      "cell_type": "code",
      "metadata": {
        "id": "S-R3L3i7iNg_",
        "colab_type": "code",
        "colab": {
          "base_uri": "https://localhost:8080/",
          "height": 279
        },
        "outputId": "b0039588-1d8f-40e0-d94a-77fbf70afbce"
      },
      "source": [
        "#Plotting the different values of k and the training score\n",
        "ax = sns.stripplot(K, training); \n",
        "ax.set(xlabel ='values of k', ylabel ='Training Score')   \n",
        "\n",
        "# function to show plot \n",
        "plt.show() \n"
      ],
      "execution_count": null,
      "outputs": [
        {
          "output_type": "display_data",
          "data": {
            "image/png": "[encoded data removed]",
            "text/plain": [
              "<Figure size 432x288 with 1 Axes>"
            ]
          },
          "metadata": {
            "tags": [],
            "needs_background": "light"
          }
        }
      ]
    },
    {
      "cell_type": "code",
      "metadata": {
        "id": "iSJERkGKiQp_",
        "colab_type": "code",
        "colab": {
          "base_uri": "https://localhost:8080/",
          "height": 279
        },
        "outputId": "1caacd2b-22a5-4876-bd4c-904dc24117a0"
      },
      "source": [
        "#Plotting the different values of k and the testing score\n",
        "ax = sns.stripplot(K, test); \n",
        "ax.set(xlabel ='values of k', ylabel ='Test Score') \n",
        "plt.show() \n"
      ],
      "execution_count": null,
      "outputs": [
        {
          "output_type": "display_data",
          "data": {
            "image/png": "[encoded data removed]",
            "text/plain": [
              "<Figure size 432x288 with 1 Axes>"
            ]
          },
          "metadata": {
            "tags": [],
            "needs_background": "light"
          }
        }
      ]
    },
    {
      "cell_type": "code",
      "metadata": {
        "id": "Q8GFpycQiTbz",
        "colab_type": "code",
        "colab": {
          "base_uri": "https://localhost:8080/",
          "height": 265
        },
        "outputId": "41fab19d-7988-4a4f-8229-6d5bdbbade40"
      },
      "source": [
        "#Plotting training and testing scores\n",
        "plt.scatter(K, training, color ='k') \n",
        "plt.scatter(K, test, color ='g') \n",
        "plt.show() \n",
        "# For overlapping scatter plots "
      ],
      "execution_count": null,
      "outputs": [
        {
          "output_type": "display_data",
          "data": {
            "image/png": "[encoded data removed]",
            "text/plain": [
              "<Figure size 432x288 with 1 Axes>"
            ]
          },
          "metadata": {
            "tags": [],
            "needs_background": "light"
          }
        }
      ]
    },
    {
      "cell_type": "code",
      "metadata": {
        "id": "X8641M-PiWq2",
        "colab_type": "code",
        "colab": {}
      },
      "source": [
        ""
      ],
      "execution_count": null,
      "outputs": []
    }
  ]
}