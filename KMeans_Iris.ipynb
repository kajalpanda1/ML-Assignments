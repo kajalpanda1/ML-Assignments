{
  "nbformat": 4,
  "nbformat_minor": 0,
  "metadata": {
    "colab": {
      "name": "KMeans_Iris.ipynb",
      "provenance": [],
      "collapsed_sections": [],
      "authorship_tag": "ABX9TyPC7oFc3v4j8Y2z8cyRbi66",
      "include_colab_link": true
    },
    "kernelspec": {
      "name": "python3",
      "display_name": "Python 3"
    }
  },
  "cells": [
    {
      "cell_type": "markdown",
      "metadata": {
        "id": "view-in-github",
        "colab_type": "text"
      },
      "source": [
        "<a href=\"https://colab.research.google.com/github/kajalpanda1/ML-Assignments/blob/master/KMeans_Iris.ipynb\" target=\"_parent\"><img src=\"https://colab.research.google.com/assets/colab-badge.svg\" alt=\"Open In Colab\"/></a>"
      ]
    },
    {
      "cell_type": "code",
      "metadata": {
        "id": "42GsyofhtDBK",
        "colab_type": "code",
        "colab": {}
      },
      "source": [
        "import pandas as pd\n",
        "import numpy as np\n",
        "import matplotlib.pyplot as plt\n",
        "from sklearn.cluster import KMeans"
      ],
      "execution_count": null,
      "outputs": []
    },
    {
      "cell_type": "code",
      "metadata": {
        "id": "6nDCME_htRFT",
        "colab_type": "code",
        "colab": {}
      },
      "source": [
        "iris_data=pd.read_csv('https://raw.githubusercontent.com/kajalpanda1/DatasetRepository/master/Iris.csv',header=None)"
      ],
      "execution_count": null,
      "outputs": []
    },
    {
      "cell_type": "code",
      "metadata": {
        "id": "Z4hS1KPvtyA6",
        "colab_type": "code",
        "colab": {
          "base_uri": "https://localhost:8080/",
          "height": 118
        },
        "outputId": "334f92da-f743-4ecc-8b27-e6274ec318d6"
      },
      "source": [
        "print(iris_data.head())"
      ],
      "execution_count": null,
      "outputs": [
        {
          "output_type": "stream",
          "text": [
            "     0    1    2    3            4\n",
            "0  5.1  3.5  1.4  0.2  Iris-setosa\n",
            "1  4.9  3.0  1.4  0.2  Iris-setosa\n",
            "2  4.7  3.2  1.3  0.2  Iris-setosa\n",
            "3  4.6  3.1  1.5  0.2  Iris-setosa\n",
            "4  5.0  3.6  1.4  0.2  Iris-setosa\n"
          ],
          "name": "stdout"
        }
      ]
    },
    {
      "cell_type": "code",
      "metadata": {
        "id": "QW8AoXyNt0Nx",
        "colab_type": "code",
        "colab": {}
      },
      "source": [
        "x=iris_data.iloc[:,0:4].values"
      ],
      "execution_count": null,
      "outputs": []
    },
    {
      "cell_type": "code",
      "metadata": {
        "id": "7pmDtGzCuTO9",
        "colab_type": "code",
        "colab": {
          "base_uri": "https://localhost:8080/",
          "height": 34
        },
        "outputId": "bcca5463-a8d0-4a15-fcab-643a763966bb"
      },
      "source": [
        "x.shape"
      ],
      "execution_count": null,
      "outputs": [
        {
          "output_type": "execute_result",
          "data": {
            "text/plain": [
              "(150, 4)"
            ]
          },
          "metadata": {
            "tags": []
          },
          "execution_count": 6
        }
      ]
    },
    {
      "cell_type": "code",
      "metadata": {
        "id": "9_hyx7IjuZ9g",
        "colab_type": "code",
        "colab": {}
      },
      "source": [
        "y=iris_data.iloc[:,4].values"
      ],
      "execution_count": null,
      "outputs": []
    },
    {
      "cell_type": "code",
      "metadata": {
        "id": "zV5436Vku3Xk",
        "colab_type": "code",
        "colab": {
          "base_uri": "https://localhost:8080/",
          "height": 34
        },
        "outputId": "08923ed1-6a1e-43f0-b548-5a087d8eebf5"
      },
      "source": [
        "y.shape"
      ],
      "execution_count": null,
      "outputs": [
        {
          "output_type": "execute_result",
          "data": {
            "text/plain": [
              "(150,)"
            ]
          },
          "metadata": {
            "tags": []
          },
          "execution_count": 10
        }
      ]
    },
    {
      "cell_type": "code",
      "metadata": {
        "id": "c40PD7OzvaA6",
        "colab_type": "code",
        "colab": {
          "base_uri": "https://localhost:8080/",
          "height": 295
        },
        "outputId": "3355a0d7-c011-43f5-bbf6-48c1fd007cab"
      },
      "source": [
        "#we will implement the elbow method to find the optimum number of clusters\n",
        "wcss=[]\n",
        "for i in range(1,11):\n",
        "  kmeans=KMeans(n_clusters=i,init='k-means++',max_iter=300,n_init=10,random_state=10)\n",
        "  kmeans.fit(x)\n",
        "  wcss.append(kmeans.inertia_) #predefined inertia_ value to be returned by machine\n",
        "\n",
        "#plotting the results in line graph\n",
        "plt.plot(range(1,11),wcss)\n",
        "plt.title('Elbow Mthod')\n",
        "plt.xlabel('Number of clusters-k')\n",
        "plt.ylabel('wcss') #within cluster sum of squares\n",
        "plt.show()"
      ],
      "execution_count": null,
      "outputs": [
        {
          "output_type": "display_data",
          "data": {
            "image/png": "[encoded data removed]",
            "text/plain": [
              "<Figure size 432x288 with 1 Axes>"
            ]
          },
          "metadata": {
            "tags": [],
            "needs_background": "light"
          }
        }
      ]
    },
    {
      "cell_type": "code",
      "metadata": {
        "id": "Z7oJEoXvxEpQ",
        "colab_type": "code",
        "colab": {
          "base_uri": "https://localhost:8080/",
          "height": 185
        },
        "outputId": "3cb649a3-263d-416d-b855-b6fa7a61bd71"
      },
      "source": [
        "wcss"
      ],
      "execution_count": null,
      "outputs": [
        {
          "output_type": "execute_result",
          "data": {
            "text/plain": [
              "[680.8244,\n",
              " 152.36870647733906,\n",
              " 78.94084142614602,\n",
              " 57.31787321428571,\n",
              " 46.53558205128205,\n",
              " 38.93873974358974,\n",
              " 34.198464618714624,\n",
              " 30.23652404612931,\n",
              " 28.115534535639803,\n",
              " 25.996554473304478]"
            ]
          },
          "metadata": {
            "tags": []
          },
          "execution_count": 12
        }
      ]
    },
    {
      "cell_type": "code",
      "metadata": {
        "id": "LPk2Sh_CxpaB",
        "colab_type": "code",
        "colab": {
          "base_uri": "https://localhost:8080/",
          "height": 34
        },
        "outputId": "f9f467a3-d33e-4cb6-cb97-9082260ce1b1"
      },
      "source": [
        "kmeans=KMeans(n_clusters=3,init='k-means++', max_iter=300, n_init=10,random_state=10)\n",
        "y_kmeans=kmeans.fit_predict(x)\n",
        "y_kmeans\n",
        "y_kmeans.shape"
      ],
      "execution_count": null,
      "outputs": [
        {
          "output_type": "execute_result",
          "data": {
            "text/plain": [
              "(150,)"
            ]
          },
          "metadata": {
            "tags": []
          },
          "execution_count": 13
        }
      ]
    },
    {
      "cell_type": "code",
      "metadata": {
        "id": "fRnLNg_Iyhni",
        "colab_type": "code",
        "colab": {
          "base_uri": "https://localhost:8080/",
          "height": 285
        },
        "outputId": "355abf9b-fa96-4bf1-8c73-828d6e62bb54"
      },
      "source": [
        "plt.scatter(x[y_kmeans==0,0],x[y_kmeans==0,1], s=50, c='red', label='Iris-Setosa')\n",
        "plt.scatter(x[y_kmeans==1,0],x[y_kmeans==1,1], s=50, c='blue', label='Iris-Versicolor')\n",
        "plt.scatter(x[y_kmeans==2,0],x[y_kmeans==2,1], s=50, c='green', label='Iris-Virginica')\n",
        "\n",
        "plt.scatter(kmeans.cluster_centers_[:,0],kmeans.cluster_centers_[:,1],s=100,c='yellow',label='Centroids')\n",
        "plt.legend()"
      ],
      "execution_count": null,
      "outputs": [
        {
          "output_type": "execute_result",
          "data": {
            "text/plain": [
              "<matplotlib.legend.Legend at 0x7f982e1c70b8>"
            ]
          },
          "metadata": {
            "tags": []
          },
          "execution_count": 14
        },
        {
          "output_type": "display_data",
          "data": {
            "image/png": "[encoded data removed]",
            "text/plain": [
              "<Figure size 432x288 with 1 Axes>"
            ]
          },
          "metadata": {
            "tags": [],
            "needs_background": "light"
          }
        }
      ]
    },
    {
      "cell_type": "code",
      "metadata": {
        "id": "6LsER_JLz6ye",
        "colab_type": "code",
        "colab": {
          "base_uri": "https://localhost:8080/",
          "height": 67
        },
        "outputId": "99bdcf9c-bf83-4ec1-e77b-db5703284d1b"
      },
      "source": [
        "kmeans.cluster_centers_[:,:] #cluster centroids"
      ],
      "execution_count": null,
      "outputs": [
        {
          "output_type": "execute_result",
          "data": {
            "text/plain": [
              "array([[5.9016129 , 2.7483871 , 4.39354839, 1.43387097],\n",
              "       [5.006     , 3.418     , 1.464     , 0.244     ],\n",
              "       [6.85      , 3.07368421, 5.74210526, 2.07105263]])"
            ]
          },
          "metadata": {
            "tags": []
          },
          "execution_count": 15
        }
      ]
    },
    {
      "cell_type": "code",
      "metadata": {
        "id": "rRk70vi80dAT",
        "colab_type": "code",
        "colab": {
          "base_uri": "https://localhost:8080/",
          "height": 34
        },
        "outputId": "dccf2213-28b8-4452-8843-b236e032b621"
      },
      "source": [
        "kmeans.cluster_centers_[:,:].shape #3 is for the number of clusters we have taken and 4 is the number of features in x"
      ],
      "execution_count": null,
      "outputs": [
        {
          "output_type": "execute_result",
          "data": {
            "text/plain": [
              "(3, 4)"
            ]
          },
          "metadata": {
            "tags": []
          },
          "execution_count": 16
        }
      ]
    }
  ]
}