{
  "nbformat": 4,
  "nbformat_minor": 0,
  "metadata": {
    "colab": {
      "name": "LinearRegression_diabetes.ipynb",
      "provenance": [],
      "collapsed_sections": []
    },
    "kernelspec": {
      "name": "python3",
      "display_name": "Python 3"
    }
  },
  "cells": [
    {
      "cell_type": "code",
      "metadata": {
        "id": "gsPFuCjoXW2x"
      },
      "source": [
        "import pandas as pd\n",
        "import matplotlib.pyplot as plt\n",
        "import numpy as np\n",
        "from sklearn.linear_model import LinearRegression\n",
        "from sklearn import datasets\n",
        "from sklearn.preprocessing import StandardScaler"
      ],
      "execution_count": 123,
      "outputs": []
    },
    {
      "cell_type": "code",
      "metadata": {
        "id": "A0qjj3vdXcTI"
      },
      "source": [
        "diabetes=datasets.load_diabetes()\r\n",
        "diabetesdf=pd.DataFrame(diabetes.data,columns=diabetes.feature_names)"
      ],
      "execution_count": 157,
      "outputs": []
    },
    {
      "cell_type": "code",
      "metadata": {
        "colab": {
          "base_uri": "https://localhost:8080/"
        },
        "id": "k8A0vw7KEusX",
        "outputId": "637c28d1-5a58-46db-823e-fbc2679a926e"
      },
      "source": [
        "diabetes.data.shape"
      ],
      "execution_count": 154,
      "outputs": [
        {
          "output_type": "execute_result",
          "data": {
            "text/plain": [
              "(442, 10)"
            ]
          },
          "metadata": {
            "tags": []
          },
          "execution_count": 154
        }
      ]
    },
    {
      "cell_type": "code",
      "metadata": {
        "id": "SqCHIQaMXmnJ",
        "colab": {
          "base_uri": "https://localhost:8080/"
        },
        "outputId": "ca7ae894-bf01-4918-fa95-1082d33d1264"
      },
      "source": [
        "diabetes.feature_names"
      ],
      "execution_count": 155,
      "outputs": [
        {
          "output_type": "execute_result",
          "data": {
            "text/plain": [
              "['age', 'sex', 'bmi', 'bp', 's1', 's2', 's3', 's4', 's5', 's6']"
            ]
          },
          "metadata": {
            "tags": []
          },
          "execution_count": 155
        }
      ]
    },
    {
      "cell_type": "code",
      "metadata": {
        "id": "O7DkBLUcEEBP"
      },
      "source": [
        "ss=StandardScaler()\r\n",
        "scaleddf=ss.fit_transform(diabetesdf)"
      ],
      "execution_count": 158,
      "outputs": []
    },
    {
      "cell_type": "code",
      "metadata": {
        "id": "0Y5rCD6lXtc4"
      },
      "source": [
        "from sklearn.decomposition import PCA\n",
        "pca=PCA(3)\n",
        "components=pca.fit_transform(scaleddf)"
      ],
      "execution_count": 176,
      "outputs": []
    },
    {
      "cell_type": "code",
      "metadata": {
        "id": "rT2ux-_gX3Rs"
      },
      "source": [
        "from sklearn.model_selection import train_test_split\n",
        "X_train, X_test, y_train, y_test = train_test_split(components, diabetes.target, test_size=0.1)"
      ],
      "execution_count": 177,
      "outputs": []
    },
    {
      "cell_type": "code",
      "metadata": {
        "id": "hJNnMDvzX_3R",
        "colab": {
          "base_uri": "https://localhost:8080/"
        },
        "outputId": "b0c24f1e-44b5-4f16-c589-65525710824f"
      },
      "source": [
        "model=LinearRegression()\n",
        "model.fit(X_train, y_train)"
      ],
      "execution_count": 178,
      "outputs": [
        {
          "output_type": "execute_result",
          "data": {
            "text/plain": [
              "LinearRegression(copy_X=True, fit_intercept=True, n_jobs=None, normalize=False)"
            ]
          },
          "metadata": {
            "tags": []
          },
          "execution_count": 178
        }
      ]
    },
    {
      "cell_type": "code",
      "metadata": {
        "id": "XIOW_7tFYETN",
        "colab": {
          "base_uri": "https://localhost:8080/"
        },
        "outputId": "d7455c58-a014-45c9-dc4b-83fd34192c0b"
      },
      "source": [
        "model.coef_"
      ],
      "execution_count": 179,
      "outputs": [
        {
          "output_type": "execute_result",
          "data": {
            "text/plain": [
              "array([ 22.04170909, -12.13754257,  11.68515119])"
            ]
          },
          "metadata": {
            "tags": []
          },
          "execution_count": 179
        }
      ]
    },
    {
      "cell_type": "code",
      "metadata": {
        "id": "kJDwwvApYGxF",
        "colab": {
          "base_uri": "https://localhost:8080/"
        },
        "outputId": "72f5e88f-ba9c-444e-937f-3b3dd0fe9acd"
      },
      "source": [
        "model.intercept_"
      ],
      "execution_count": 180,
      "outputs": [
        {
          "output_type": "execute_result",
          "data": {
            "text/plain": [
              "152.1952833192863"
            ]
          },
          "metadata": {
            "tags": []
          },
          "execution_count": 180
        }
      ]
    },
    {
      "cell_type": "code",
      "metadata": {
        "id": "CZbjNFt-YLBf",
        "colab": {
          "base_uri": "https://localhost:8080/"
        },
        "outputId": "ec619581-5ceb-45fe-e52c-745b0fa5f547"
      },
      "source": [
        "model.score(X_train,y_train)"
      ],
      "execution_count": 181,
      "outputs": [
        {
          "output_type": "execute_result",
          "data": {
            "text/plain": [
              "0.36850810049853766"
            ]
          },
          "metadata": {
            "tags": []
          },
          "execution_count": 181
        }
      ]
    },
    {
      "cell_type": "code",
      "metadata": {
        "id": "yxrkC0GgYPgz",
        "colab": {
          "base_uri": "https://localhost:8080/"
        },
        "outputId": "8a92ad5a-54fb-4401-98bb-78a0d6b4bcbf"
      },
      "source": [
        "model.score(X_test,y_test)"
      ],
      "execution_count": 182,
      "outputs": [
        {
          "output_type": "execute_result",
          "data": {
            "text/plain": [
              "0.40797581668717947"
            ]
          },
          "metadata": {
            "tags": []
          },
          "execution_count": 182
        }
      ]
    },
    {
      "cell_type": "code",
      "metadata": {
        "id": "NltpC5h4YS0p",
        "colab": {
          "base_uri": "https://localhost:8080/"
        },
        "outputId": "124a4421-5d1c-461b-c9f2-6cc43eea6f23"
      },
      "source": [
        "from sklearn.metrics import mean_squared_error,r2_score\n",
        "y_pred=model.predict(X_test)\n",
        "print('Accuracy of LR',mean_squared_error(y_pred,y_test))"
      ],
      "execution_count": 183,
      "outputs": [
        {
          "output_type": "stream",
          "text": [
            "Accuracy of LR 2769.0739817150015\n"
          ],
          "name": "stdout"
        }
      ]
    },
    {
      "cell_type": "code",
      "metadata": {
        "id": "4f3AsT6MYlHU",
        "colab": {
          "base_uri": "https://localhost:8080/"
        },
        "outputId": "435347b0-db5c-47b0-9499-fa19e4c91c20"
      },
      "source": [
        "r2_score(y_pred,y_test)"
      ],
      "execution_count": 184,
      "outputs": [
        {
          "output_type": "execute_result",
          "data": {
            "text/plain": [
              "0.1448541148150625"
            ]
          },
          "metadata": {
            "tags": []
          },
          "execution_count": 184
        }
      ]
    }
  ]
}