{
  "nbformat": 4,
  "nbformat_minor": 0,
  "metadata": {
    "colab": {
      "name": "SVM_Iris.ipynb",
      "provenance": [],
      "collapsed_sections": [],
      "authorship_tag": "ABX9TyOj8bGn8Mqu4RVC+eeu0KbE",
      "include_colab_link": true
    },
    "kernelspec": {
      "name": "python3",
      "display_name": "Python 3"
    }
  },
  "cells": [
    {
      "cell_type": "markdown",
      "metadata": {
        "id": "view-in-github",
        "colab_type": "text"
      },
      "source": [
        "<a href=\"https://colab.research.google.com/github/kajalpanda1/ML-Assignments/blob/master/SVM_Iris.ipynb\" target=\"_parent\"><img src=\"https://colab.research.google.com/assets/colab-badge.svg\" alt=\"Open In Colab\"/></a>"
      ]
    },
    {
      "cell_type": "code",
      "metadata": {
        "id": "kMliujIvQ2DD",
        "colab_type": "code",
        "colab": {}
      },
      "source": [
        "#import required packages\n",
        "from sklearn import datasets\t\t\n",
        "from sklearn import svm    \t\t\t\n",
        "import numpy as np\n",
        "import matplotlib.pyplot as plt            "
      ],
      "execution_count": 1,
      "outputs": []
    },
    {
      "cell_type": "code",
      "metadata": {
        "id": "ifKOU3rrjhOv",
        "colab_type": "code",
        "colab": {}
      },
      "source": [
        "#import iris data to model Svm classifier\n",
        "iris_data=datasets.load_iris()"
      ],
      "execution_count": 2,
      "outputs": []
    },
    {
      "cell_type": "code",
      "metadata": {
        "id": "gy-tB58TUvzw",
        "colab_type": "code",
        "colab": {
          "base_uri": "https://localhost:8080/",
          "height": 1000
        },
        "outputId": "b47ca17f-36f0-4f5f-fa83-1ef114f6c060"
      },
      "source": [
        "print(iris_data['DESCR'])#data description"
      ],
      "execution_count": 3,
      "outputs": [
        {
          "output_type": "stream",
          "text": [
            ".. _iris_dataset:\n",
            "\n",
            "Iris plants dataset\n",
            "--------------------\n",
            "\n",
            "**Data Set Characteristics:**\n",
            "\n",
            "    :Number of Instances: 150 (50 in each of three classes)\n",
            "    :Number of Attributes: 4 numeric, predictive attributes and the class\n",
            "    :Attribute Information:\n",
            "        - sepal length in cm\n",
            "        - sepal width in cm\n",
            "        - petal length in cm\n",
            "        - petal width in cm\n",
            "        - class:\n",
            "                - Iris-Setosa\n",
            "                - Iris-Versicolour\n",
            "                - Iris-Virginica\n",
            "                \n",
            "    :Summary Statistics:\n",
            "\n",
            "    ============== ==== ==== ======= ===== ====================\n",
            "                    Min  Max   Mean    SD   Class Correlation\n",
            "    ============== ==== ==== ======= ===== ====================\n",
            "    sepal length:   4.3  7.9   5.84   0.83    0.7826\n",
            "    sepal width:    2.0  4.4   3.05   0.43   -0.4194\n",
            "    petal length:   1.0  6.9   3.76   1.76    0.9490  (high!)\n",
            "    petal width:    0.1  2.5   1.20   0.76    0.9565  (high!)\n",
            "    ============== ==== ==== ======= ===== ====================\n",
            "\n",
            "    :Missing Attribute Values: None\n",
            "    :Class Distribution: 33.3% for each of 3 classes.\n",
            "    :Creator: R.A. Fisher\n",
            "    :Donor: Michael Marshall (MARSHALL%PLU@io.arc.nasa.gov)\n",
            "    :Date: July, 1988\n",
            "\n",
            "The famous Iris database, first used by Sir R.A. Fisher. The dataset is taken\n",
            "from Fisher's paper. Note that it's the same as in R, but not as in the UCI\n",
            "Machine Learning Repository, which has two wrong data points.\n",
            "\n",
            "This is perhaps the best known database to be found in the\n",
            "pattern recognition literature.  Fisher's paper is a classic in the field and\n",
            "is referenced frequently to this day.  (See Duda & Hart, for example.)  The\n",
            "data set contains 3 classes of 50 instances each, where each class refers to a\n",
            "type of iris plant.  One class is linearly separable from the other 2; the\n",
            "latter are NOT linearly separable from each other.\n",
            "\n",
            ".. topic:: References\n",
            "\n",
            "   - Fisher, R.A. \"The use of multiple measurements in taxonomic problems\"\n",
            "     Annual Eugenics, 7, Part II, 179-188 (1936); also in \"Contributions to\n",
            "     Mathematical Statistics\" (John Wiley, NY, 1950).\n",
            "   - Duda, R.O., & Hart, P.E. (1973) Pattern Classification and Scene Analysis.\n",
            "     (Q327.D83) John Wiley & Sons.  ISBN 0-471-22361-1.  See page 218.\n",
            "   - Dasarathy, B.V. (1980) \"Nosing Around the Neighborhood: A New System\n",
            "     Structure and Classification Rule for Recognition in Partially Exposed\n",
            "     Environments\".  IEEE Transactions on Pattern Analysis and Machine\n",
            "     Intelligence, Vol. PAMI-2, No. 1, 67-71.\n",
            "   - Gates, G.W. (1972) \"The Reduced Nearest Neighbor Rule\".  IEEE Transactions\n",
            "     on Information Theory, May 1972, 431-433.\n",
            "   - See also: 1988 MLC Proceedings, 54-64.  Cheeseman et al\"s AUTOCLASS II\n",
            "     conceptual clustering system finds 3 classes in the data.\n",
            "   - Many, many more ...\n"
          ],
          "name": "stdout"
        }
      ]
    },
    {
      "cell_type": "code",
      "metadata": {
        "id": "7oWO1OeYUzuo",
        "colab_type": "code",
        "colab": {
          "base_uri": "https://localhost:8080/",
          "height": 1000
        },
        "outputId": "f17a93c7-8f61-404c-f0fe-ae08715d3e5d"
      },
      "source": [
        "iris_data['data']"
      ],
      "execution_count": 4,
      "outputs": [
        {
          "output_type": "execute_result",
          "data": {
            "text/plain": [
              "array([[5.1, 3.5, 1.4, 0.2],\n",
              "       [4.9, 3. , 1.4, 0.2],\n",
              "       [4.7, 3.2, 1.3, 0.2],\n",
              "       [4.6, 3.1, 1.5, 0.2],\n",
              "       [5. , 3.6, 1.4, 0.2],\n",
              "       [5.4, 3.9, 1.7, 0.4],\n",
              "       [4.6, 3.4, 1.4, 0.3],\n",
              "       [5. , 3.4, 1.5, 0.2],\n",
              "       [4.4, 2.9, 1.4, 0.2],\n",
              "       [4.9, 3.1, 1.5, 0.1],\n",
              "       [5.4, 3.7, 1.5, 0.2],\n",
              "       [4.8, 3.4, 1.6, 0.2],\n",
              "       [4.8, 3. , 1.4, 0.1],\n",
              "       [4.3, 3. , 1.1, 0.1],\n",
              "       [5.8, 4. , 1.2, 0.2],\n",
              "       [5.7, 4.4, 1.5, 0.4],\n",
              "       [5.4, 3.9, 1.3, 0.4],\n",
              "       [5.1, 3.5, 1.4, 0.3],\n",
              "       [5.7, 3.8, 1.7, 0.3],\n",
              "       [5.1, 3.8, 1.5, 0.3],\n",
              "       [5.4, 3.4, 1.7, 0.2],\n",
              "       [5.1, 3.7, 1.5, 0.4],\n",
              "       [4.6, 3.6, 1. , 0.2],\n",
              "       [5.1, 3.3, 1.7, 0.5],\n",
              "       [4.8, 3.4, 1.9, 0.2],\n",
              "       [5. , 3. , 1.6, 0.2],\n",
              "       [5. , 3.4, 1.6, 0.4],\n",
              "       [5.2, 3.5, 1.5, 0.2],\n",
              "       [5.2, 3.4, 1.4, 0.2],\n",
              "       [4.7, 3.2, 1.6, 0.2],\n",
              "       [4.8, 3.1, 1.6, 0.2],\n",
              "       [5.4, 3.4, 1.5, 0.4],\n",
              "       [5.2, 4.1, 1.5, 0.1],\n",
              "       [5.5, 4.2, 1.4, 0.2],\n",
              "       [4.9, 3.1, 1.5, 0.2],\n",
              "       [5. , 3.2, 1.2, 0.2],\n",
              "       [5.5, 3.5, 1.3, 0.2],\n",
              "       [4.9, 3.6, 1.4, 0.1],\n",
              "       [4.4, 3. , 1.3, 0.2],\n",
              "       [5.1, 3.4, 1.5, 0.2],\n",
              "       [5. , 3.5, 1.3, 0.3],\n",
              "       [4.5, 2.3, 1.3, 0.3],\n",
              "       [4.4, 3.2, 1.3, 0.2],\n",
              "       [5. , 3.5, 1.6, 0.6],\n",
              "       [5.1, 3.8, 1.9, 0.4],\n",
              "       [4.8, 3. , 1.4, 0.3],\n",
              "       [5.1, 3.8, 1.6, 0.2],\n",
              "       [4.6, 3.2, 1.4, 0.2],\n",
              "       [5.3, 3.7, 1.5, 0.2],\n",
              "       [5. , 3.3, 1.4, 0.2],\n",
              "       [7. , 3.2, 4.7, 1.4],\n",
              "       [6.4, 3.2, 4.5, 1.5],\n",
              "       [6.9, 3.1, 4.9, 1.5],\n",
              "       [5.5, 2.3, 4. , 1.3],\n",
              "       [6.5, 2.8, 4.6, 1.5],\n",
              "       [5.7, 2.8, 4.5, 1.3],\n",
              "       [6.3, 3.3, 4.7, 1.6],\n",
              "       [4.9, 2.4, 3.3, 1. ],\n",
              "       [6.6, 2.9, 4.6, 1.3],\n",
              "       [5.2, 2.7, 3.9, 1.4],\n",
              "       [5. , 2. , 3.5, 1. ],\n",
              "       [5.9, 3. , 4.2, 1.5],\n",
              "       [6. , 2.2, 4. , 1. ],\n",
              "       [6.1, 2.9, 4.7, 1.4],\n",
              "       [5.6, 2.9, 3.6, 1.3],\n",
              "       [6.7, 3.1, 4.4, 1.4],\n",
              "       [5.6, 3. , 4.5, 1.5],\n",
              "       [5.8, 2.7, 4.1, 1. ],\n",
              "       [6.2, 2.2, 4.5, 1.5],\n",
              "       [5.6, 2.5, 3.9, 1.1],\n",
              "       [5.9, 3.2, 4.8, 1.8],\n",
              "       [6.1, 2.8, 4. , 1.3],\n",
              "       [6.3, 2.5, 4.9, 1.5],\n",
              "       [6.1, 2.8, 4.7, 1.2],\n",
              "       [6.4, 2.9, 4.3, 1.3],\n",
              "       [6.6, 3. , 4.4, 1.4],\n",
              "       [6.8, 2.8, 4.8, 1.4],\n",
              "       [6.7, 3. , 5. , 1.7],\n",
              "       [6. , 2.9, 4.5, 1.5],\n",
              "       [5.7, 2.6, 3.5, 1. ],\n",
              "       [5.5, 2.4, 3.8, 1.1],\n",
              "       [5.5, 2.4, 3.7, 1. ],\n",
              "       [5.8, 2.7, 3.9, 1.2],\n",
              "       [6. , 2.7, 5.1, 1.6],\n",
              "       [5.4, 3. , 4.5, 1.5],\n",
              "       [6. , 3.4, 4.5, 1.6],\n",
              "       [6.7, 3.1, 4.7, 1.5],\n",
              "       [6.3, 2.3, 4.4, 1.3],\n",
              "       [5.6, 3. , 4.1, 1.3],\n",
              "       [5.5, 2.5, 4. , 1.3],\n",
              "       [5.5, 2.6, 4.4, 1.2],\n",
              "       [6.1, 3. , 4.6, 1.4],\n",
              "       [5.8, 2.6, 4. , 1.2],\n",
              "       [5. , 2.3, 3.3, 1. ],\n",
              "       [5.6, 2.7, 4.2, 1.3],\n",
              "       [5.7, 3. , 4.2, 1.2],\n",
              "       [5.7, 2.9, 4.2, 1.3],\n",
              "       [6.2, 2.9, 4.3, 1.3],\n",
              "       [5.1, 2.5, 3. , 1.1],\n",
              "       [5.7, 2.8, 4.1, 1.3],\n",
              "       [6.3, 3.3, 6. , 2.5],\n",
              "       [5.8, 2.7, 5.1, 1.9],\n",
              "       [7.1, 3. , 5.9, 2.1],\n",
              "       [6.3, 2.9, 5.6, 1.8],\n",
              "       [6.5, 3. , 5.8, 2.2],\n",
              "       [7.6, 3. , 6.6, 2.1],\n",
              "       [4.9, 2.5, 4.5, 1.7],\n",
              "       [7.3, 2.9, 6.3, 1.8],\n",
              "       [6.7, 2.5, 5.8, 1.8],\n",
              "       [7.2, 3.6, 6.1, 2.5],\n",
              "       [6.5, 3.2, 5.1, 2. ],\n",
              "       [6.4, 2.7, 5.3, 1.9],\n",
              "       [6.8, 3. , 5.5, 2.1],\n",
              "       [5.7, 2.5, 5. , 2. ],\n",
              "       [5.8, 2.8, 5.1, 2.4],\n",
              "       [6.4, 3.2, 5.3, 2.3],\n",
              "       [6.5, 3. , 5.5, 1.8],\n",
              "       [7.7, 3.8, 6.7, 2.2],\n",
              "       [7.7, 2.6, 6.9, 2.3],\n",
              "       [6. , 2.2, 5. , 1.5],\n",
              "       [6.9, 3.2, 5.7, 2.3],\n",
              "       [5.6, 2.8, 4.9, 2. ],\n",
              "       [7.7, 2.8, 6.7, 2. ],\n",
              "       [6.3, 2.7, 4.9, 1.8],\n",
              "       [6.7, 3.3, 5.7, 2.1],\n",
              "       [7.2, 3.2, 6. , 1.8],\n",
              "       [6.2, 2.8, 4.8, 1.8],\n",
              "       [6.1, 3. , 4.9, 1.8],\n",
              "       [6.4, 2.8, 5.6, 2.1],\n",
              "       [7.2, 3. , 5.8, 1.6],\n",
              "       [7.4, 2.8, 6.1, 1.9],\n",
              "       [7.9, 3.8, 6.4, 2. ],\n",
              "       [6.4, 2.8, 5.6, 2.2],\n",
              "       [6.3, 2.8, 5.1, 1.5],\n",
              "       [6.1, 2.6, 5.6, 1.4],\n",
              "       [7.7, 3. , 6.1, 2.3],\n",
              "       [6.3, 3.4, 5.6, 2.4],\n",
              "       [6.4, 3.1, 5.5, 1.8],\n",
              "       [6. , 3. , 4.8, 1.8],\n",
              "       [6.9, 3.1, 5.4, 2.1],\n",
              "       [6.7, 3.1, 5.6, 2.4],\n",
              "       [6.9, 3.1, 5.1, 2.3],\n",
              "       [5.8, 2.7, 5.1, 1.9],\n",
              "       [6.8, 3.2, 5.9, 2.3],\n",
              "       [6.7, 3.3, 5.7, 2.5],\n",
              "       [6.7, 3. , 5.2, 2.3],\n",
              "       [6.3, 2.5, 5. , 1.9],\n",
              "       [6.5, 3. , 5.2, 2. ],\n",
              "       [6.2, 3.4, 5.4, 2.3],\n",
              "       [5.9, 3. , 5.1, 1.8]])"
            ]
          },
          "metadata": {
            "tags": []
          },
          "execution_count": 4
        }
      ]
    },
    {
      "cell_type": "code",
      "metadata": {
        "id": "AXpOMNkGU-yd",
        "colab_type": "code",
        "colab": {
          "base_uri": "https://localhost:8080/",
          "height": 134
        },
        "outputId": "188841d6-ea2c-4206-e3b3-d524fbe49ebd"
      },
      "source": [
        "iris_data['target']"
      ],
      "execution_count": 5,
      "outputs": [
        {
          "output_type": "execute_result",
          "data": {
            "text/plain": [
              "array([0, 0, 0, 0, 0, 0, 0, 0, 0, 0, 0, 0, 0, 0, 0, 0, 0, 0, 0, 0, 0, 0,\n",
              "       0, 0, 0, 0, 0, 0, 0, 0, 0, 0, 0, 0, 0, 0, 0, 0, 0, 0, 0, 0, 0, 0,\n",
              "       0, 0, 0, 0, 0, 0, 1, 1, 1, 1, 1, 1, 1, 1, 1, 1, 1, 1, 1, 1, 1, 1,\n",
              "       1, 1, 1, 1, 1, 1, 1, 1, 1, 1, 1, 1, 1, 1, 1, 1, 1, 1, 1, 1, 1, 1,\n",
              "       1, 1, 1, 1, 1, 1, 1, 1, 1, 1, 1, 1, 2, 2, 2, 2, 2, 2, 2, 2, 2, 2,\n",
              "       2, 2, 2, 2, 2, 2, 2, 2, 2, 2, 2, 2, 2, 2, 2, 2, 2, 2, 2, 2, 2, 2,\n",
              "       2, 2, 2, 2, 2, 2, 2, 2, 2, 2, 2, 2, 2, 2, 2, 2, 2, 2])"
            ]
          },
          "metadata": {
            "tags": []
          },
          "execution_count": 5
        }
      ]
    },
    {
      "cell_type": "code",
      "metadata": {
        "id": "4vDaq2OVj2fP",
        "colab_type": "code",
        "colab": {
          "base_uri": "https://localhost:8080/",
          "height": 295
        },
        "outputId": "9534a20f-9e80-4555-fbbb-3de892dd472f"
      },
      "source": [
        "#visualize_sepal_data taking first two features\n",
        "x=iris_data.data[:,:2]  \n",
        "y=iris_data.target\n",
        "plt.scatter(x[:,0],x[:,1], c=y)\n",
        "plt.xlabel('Sepal length')\n",
        "plt.ylabel('Sepal width')\n",
        "plt.title('Sepal Width & Length')\n",
        "plt.show()"
      ],
      "execution_count": 6,
      "outputs": [
        {
          "output_type": "display_data",
          "data": {
            "image/png": "[encoded data removed]",
            "text/plain": [
              "<Figure size 432x288 with 1 Axes>"
            ]
          },
          "metadata": {
            "tags": [],
            "needs_background": "light"
          }
        }
      ]
    },
    {
      "cell_type": "code",
      "metadata": {
        "id": "M8Fn8BAqV1F0",
        "colab_type": "code",
        "colab": {
          "base_uri": "https://localhost:8080/",
          "height": 295
        },
        "outputId": "6bb2bd2e-72be-44b9-bf1c-f3d33107f937"
      },
      "source": [
        "#visualize_petal_data taking last two features\n",
        "x=iris_data.data[:,2:]  \n",
        "y=iris_data.target\n",
        "plt.scatter(x[:,0],x[:,1], c=y)\n",
        "plt.xlabel('Petal length')\n",
        "plt.ylabel('Petal width')\n",
        "plt.title('Petal Width & Length')\n",
        "plt.show()"
      ],
      "execution_count": 7,
      "outputs": [
        {
          "output_type": "display_data",
          "data": {
            "image/png": "[encoded data removed]",
            "text/plain": [
              "<Figure size 432x288 with 1 Axes>"
            ]
          },
          "metadata": {
            "tags": [],
            "needs_background": "light"
          }
        }
      ]
    },
    {
      "cell_type": "code",
      "metadata": {
        "id": "QvGUX5UnXzx3",
        "colab_type": "code",
        "colab": {}
      },
      "source": [
        "from sklearn.model_selection import train_test_split\n",
        "x_train,x_test,y_train,y_test=train_test_split(iris_data.data,iris_data.target,test_size=0.2,random_state=30)"
      ],
      "execution_count": 8,
      "outputs": []
    },
    {
      "cell_type": "code",
      "metadata": {
        "id": "ZdoMGGq1j-JB",
        "colab_type": "code",
        "colab": {}
      },
      "source": [
        "#sepal features\n",
        "x_sepal=x_train[:,:2] \n",
        "y_sepal=y_train"
      ],
      "execution_count": 9,
      "outputs": []
    },
    {
      "cell_type": "code",
      "metadata": {
        "id": "GNOxl_PoZnyC",
        "colab_type": "code",
        "colab": {}
      },
      "source": [
        "#SVM model with linear kernel\n",
        "svc=svm.SVC(kernel='linear', C=1.0).fit(x_sepal,y_sepal)\n",
        "# LinearSVC (linear kernel)\n",
        "lin_svc = svm.LinearSVC(C=1.0,max_iter=3000).fit(x_sepal, y_sepal)\n",
        "# SVC with RBF kernel\n",
        "rbf_svc = svm.SVC(kernel='rbf', gamma=0.7, C=1.0).fit(x_sepal, y_sepal)\n",
        "# SVC with polynomial (degree 3) kernel\n",
        "poly_svc = svm.SVC(kernel='poly', degree=3, C=1.0).fit(x_sepal, y_sepal)"
      ],
      "execution_count": 10,
      "outputs": []
    },
    {
      "cell_type": "code",
      "metadata": {
        "id": "-d3kQ1RUaa_l",
        "colab_type": "code",
        "colab": {}
      },
      "source": [
        "y_pred_svc=svc.predict(x_test[:,:2])\n",
        "y_pred_lin_svc=lin_svc.predict(x_test[:,:2])\n",
        "y_pred_rbf_svc=rbf_svc.predict(x_test[:,:2])\n",
        "y_pred_poly_svc=poly_svc.predict(x_test[:,:2])"
      ],
      "execution_count": 11,
      "outputs": []
    },
    {
      "cell_type": "code",
      "metadata": {
        "id": "G0O67yXVdJpY",
        "colab_type": "code",
        "colab": {
          "base_uri": "https://localhost:8080/",
          "height": 278
        },
        "outputId": "612b626b-e582-42de-bb55-15db66b20696"
      },
      "source": [
        "x=iris_data.data[:,:2]\n",
        "h = .02  # step size in the mesh\n",
        "# create a mesh to plot in\n",
        "x_min, x_max = x[:, 0].min() - 1, x[:, 0].max() + 1\n",
        "y_min, y_max = x[:, 1].min() - 1, x[:, 1].max() + 1\n",
        "xx, yy = np.meshgrid(np.arange(x_min, x_max, h),\n",
        "\t                     np.arange(y_min, y_max, h))\n",
        "# title for the plots\n",
        "titles = ['SVC with linear kernel',\n",
        "\t   'LinearSVC (linear kernel)',\n",
        "\t    'SVC with RBF kernel',\n",
        "\t    'SVC with polynomial (degree 3) kernel']\n",
        " \n",
        "for i, clf in enumerate((svc, lin_svc, rbf_svc, poly_svc)):\n",
        "\t # Plot the decision boundary. For that, we will assign a color to each\n",
        "\t # point in the mesh [x_min, x_max]x[y_min, y_max].\n",
        "\t plt.subplot(2, 2, i + 1)\n",
        "\t plt.subplots_adjust(wspace=0.4, hspace=0.4)\n",
        " \n",
        "\t Z = clf.predict(np.c_[xx.ravel(), yy.ravel()])\n",
        " \n",
        "\t # Put the result into a color plot\n",
        "\t Z = Z.reshape(xx.shape)\n",
        "\t plt.contourf(xx, yy, Z, cmap=plt.cm.coolwarm, alpha=0.8)\n",
        " \n",
        "\t # Plot also the training points\n",
        "\t plt.scatter(x[:, 0], x[:, 1], c=y, cmap=plt.cm.coolwarm)\n",
        "\t plt.xlabel('Sepal length')\n",
        "\t plt.ylabel('Sepal width')\n",
        "\t plt.xlim(xx.min(), xx.max())\n",
        "\t plt.ylim(yy.min(), yy.max())\n",
        "\t plt.xticks(())\n",
        "\t plt.yticks(())\n",
        "\t plt.title(titles[i])\n",
        " \n",
        "plt.show()"
      ],
      "execution_count": 33,
      "outputs": [
        {
          "output_type": "display_data",
          "data": {
            "image/png": "[encoded data removed]",
            "text/plain": [
              "<Figure size 432x288 with 4 Axes>"
            ]
          },
          "metadata": {
            "tags": []
          }
        }
      ]
    },
    {
      "cell_type": "code",
      "metadata": {
        "id": "ejkaQgMrZ97X",
        "colab_type": "code",
        "colab": {
          "base_uri": "https://localhost:8080/",
          "height": 101
        },
        "outputId": "ebf16df5-f817-4839-cb42-32a7bf152745"
      },
      "source": [
        "from sklearn.metrics import accuracy_score as ac\n",
        "print(\"Accuracy Score:\")\n",
        "print('SVM with kernel(linear):',ac(y_test,y_pred_svc)*100)\n",
        "print('SVM with linear svc:',ac(y_test,y_pred_lin_svc)*100)\n",
        "print('SVM with kernel(rbf):',ac(y_test,y_pred_rbf_svc)*100)\n",
        "print('SVM with kernel(poly):',ac(y_test,y_pred_poly_svc)*100)"
      ],
      "execution_count": 12,
      "outputs": [
        {
          "output_type": "stream",
          "text": [
            "Accuracy Score:\n",
            "SVM with kernel(linear): 86.66666666666667\n",
            "SVM with linear svc: 86.66666666666667\n",
            "SVM with kernel(rbf): 83.33333333333334\n",
            "SVM with kernel(poly): 83.33333333333334\n"
          ],
          "name": "stdout"
        }
      ]
    },
    {
      "cell_type": "code",
      "metadata": {
        "id": "yG2enBqWZneX",
        "colab_type": "code",
        "colab": {
          "base_uri": "https://localhost:8080/",
          "height": 101
        },
        "outputId": "9e02e5a4-cef2-460c-b3da-bcabcce52a7a"
      },
      "source": [
        "print(\"Training Accuracy Score:\")\n",
        "print('SVM with kernel(linear):',svc.score(x_sepal,y_sepal)*100)\n",
        "print('SVM with linear svc:',lin_svc.score(x_sepal,y_sepal)*100)\n",
        "print('SVM with kernel(rbf):',rbf_svc.score(x_sepal,y_sepal)*100)\n",
        "print('SVM with kernel(poly):',poly_svc.score(x_sepal,y_sepal)*100)"
      ],
      "execution_count": 14,
      "outputs": [
        {
          "output_type": "stream",
          "text": [
            "Training Accuracy Score:\n",
            "SVM with kernel(linear): 80.83333333333333\n",
            "SVM with linear svc: 79.16666666666666\n",
            "SVM with kernel(rbf): 81.66666666666667\n",
            "SVM with kernel(poly): 80.0\n"
          ],
          "name": "stdout"
        }
      ]
    },
    {
      "cell_type": "code",
      "metadata": {
        "id": "fzJs87FJa_IU",
        "colab_type": "code",
        "colab": {
          "base_uri": "https://localhost:8080/",
          "height": 101
        },
        "outputId": "2824cce8-5fbb-40ef-efb9-f8beeb42bfc8"
      },
      "source": [
        "print(\"Testing Accuracy Score:\")\n",
        "print('SVM with kernel(linear):',svc.score(x_test[:,:2],y_test)*100)\n",
        "print('SVM with linear svc:',lin_svc.score(x_test[:,:2],y_test)*100)\n",
        "print('SVM with kernel(rbf):',rbf_svc.score(x_test[:,:2],y_test)*100)\n",
        "print('SVM with kernel(poly):',poly_svc.score(x_test[:,:2],y_test)*100)"
      ],
      "execution_count": 15,
      "outputs": [
        {
          "output_type": "stream",
          "text": [
            "Testing Accuracy Score:\n",
            "SVM with kernel(linear): 86.66666666666667\n",
            "SVM with linear svc: 86.66666666666667\n",
            "SVM with kernel(rbf): 83.33333333333334\n",
            "SVM with kernel(poly): 83.33333333333334\n"
          ],
          "name": "stdout"
        }
      ]
    },
    {
      "cell_type": "code",
      "metadata": {
        "id": "X3B_590IbGTj",
        "colab_type": "code",
        "colab": {}
      },
      "source": [
        "#Petal Features\n",
        "x_petal=x_train[:,2:] \n",
        "y_petal=y_train"
      ],
      "execution_count": 16,
      "outputs": []
    },
    {
      "cell_type": "code",
      "metadata": {
        "id": "xknMQRtHbclE",
        "colab_type": "code",
        "colab": {}
      },
      "source": [
        "#SVM model with linear kernel\n",
        "svc1=svm.SVC(kernel='linear', C=1.0).fit(x_petal,y_petal)\n",
        "# LinearSVC (linear kernel)\n",
        "lin_svc1 = svm.LinearSVC(C=1.0,max_iter=3000).fit(x_petal, y_petal)\n",
        "# SVC with RBF kernel\n",
        "rbf_svc1 = svm.SVC(kernel='rbf', gamma=0.7, C=1.0).fit(x_petal, y_petal)\n",
        "# SVC with polynomial (degree 3) kernel\n",
        "poly_svc1 = svm.SVC(kernel='poly', degree=3, C=1.0).fit(x_petal, y_petal)"
      ],
      "execution_count": 22,
      "outputs": []
    },
    {
      "cell_type": "code",
      "metadata": {
        "id": "_4__iaB7cH1r",
        "colab_type": "code",
        "colab": {}
      },
      "source": [
        "y_pred_svc1=svc1.predict(x_test[:,2:])\n",
        "y_pred_lin_svc1=lin_svc1.predict(x_test[:,2:])\n",
        "y_pred_rbf_svc1=rbf_svc1.predict(x_test[:,2:])\n",
        "y_pred_poly_svc1=poly_svc1.predict(x_test[:,2:])"
      ],
      "execution_count": 23,
      "outputs": []
    },
    {
      "cell_type": "code",
      "metadata": {
        "id": "CK-x3-LqebDE",
        "colab_type": "code",
        "colab": {
          "base_uri": "https://localhost:8080/",
          "height": 278
        },
        "outputId": "ab40a6e0-7218-4930-c2db-7847d2284814"
      },
      "source": [
        "X=iris_data.data[:,2:]\n",
        "h = .02  # step size in the mesh\n",
        "# create a mesh to plot in\n",
        "x_min, x_max = X[:, 0].min() - 1, X[:, 0].max() + 1\n",
        "y_min, y_max = X[:, 1].min() - 1, X[:, 1].max() + 1\n",
        "xx, yy = np.meshgrid(np.arange(x_min, x_max, h),\n",
        "\t            np.arange(y_min, y_max, h))\n",
        "# title for the plots\n",
        "titles = ['SVC with linear kernel',\n",
        "\t  'LinearSVC (linear kernel)',\n",
        "\t  'SVC with RBF kernel',\n",
        "\t  'SVC with polynomial (degree 3) kernel']\n",
        " \n",
        " \n",
        "for i, clf in enumerate((svc1, lin_svc1, rbf_svc1, poly_svc1)):\n",
        "    # Plot the decision boundary. For that, we will assign a color to each\n",
        "    # point in the mesh [x_min, x_max]x[y_min, y_max].\n",
        "    plt.subplot(2, 2, i + 1)\n",
        "    plt.subplots_adjust(wspace=0.4, hspace=0.4)\n",
        " \n",
        "    Z = clf.predict(np.c_[xx.ravel(), yy.ravel()])\n",
        " \n",
        "    # Put the result into a color plot\n",
        "    Z = Z.reshape(xx.shape)\n",
        "    plt.contourf(xx, yy, Z, cmap=plt.cm.coolwarm, alpha=0.8)\n",
        " \n",
        "    # Plot also the training points\n",
        "    plt.scatter(X[:, 0], X[:, 1], c=y, cmap=plt.cm.coolwarm)\n",
        "    plt.xlabel('Petal length')\n",
        "    plt.ylabel('Petal width')\n",
        "    plt.xlim(xx.min(), xx.max())\n",
        "    plt.ylim(yy.min(), yy.max())\n",
        "    plt.xticks(())\n",
        "    plt.yticks(())\n",
        "    plt.title(titles[i])\n",
        " \n",
        "plt.show()"
      ],
      "execution_count": 35,
      "outputs": [
        {
          "output_type": "display_data",
          "data": {
            "image/png": "[encoded data removed]",
            "text/plain": [
              "<Figure size 432x288 with 4 Axes>"
            ]
          },
          "metadata": {
            "tags": []
          }
        }
      ]
    },
    {
      "cell_type": "code",
      "metadata": {
        "id": "Et2-eaAbc2so",
        "colab_type": "code",
        "colab": {
          "base_uri": "https://localhost:8080/",
          "height": 101
        },
        "outputId": "22621234-5c39-40b1-cefc-0c769e4f4f16"
      },
      "source": [
        "print(\"Accuracy Score:\")\n",
        "print('SVM with kernel(linear):',ac(y_test,y_pred_svc1)*100)\n",
        "print('SVM with linear svc:',ac(y_test,y_pred_lin_svc1)*100)\n",
        "print('SVM with kernel(rbf):',ac(y_test,y_pred_rbf_svc1)*100)\n",
        "print('SVM with kernel(poly):',ac(y_test,y_pred_poly_svc1)*100)"
      ],
      "execution_count": 24,
      "outputs": [
        {
          "output_type": "stream",
          "text": [
            "Accuracy Score:\n",
            "SVM with kernel(linear): 96.66666666666667\n",
            "SVM with linear svc: 93.33333333333333\n",
            "SVM with kernel(rbf): 96.66666666666667\n",
            "SVM with kernel(poly): 96.66666666666667\n"
          ],
          "name": "stdout"
        }
      ]
    },
    {
      "cell_type": "code",
      "metadata": {
        "id": "pyt5iLJRcblS",
        "colab_type": "code",
        "colab": {
          "base_uri": "https://localhost:8080/",
          "height": 101
        },
        "outputId": "003be2c8-2799-4cf8-a999-3bea1f67846d"
      },
      "source": [
        "print(\"Training Accuracy Score:\")\n",
        "print('SVM with kernel(linear):',svc1.score(x_petal,y_petal)*100)\n",
        "print('SVM with linear svc:',lin_svc1.score(x_petal,y_petal)*100)\n",
        "print('SVM with kernel(rbf):',rbf_svc1.score(x_petal,y_petal)*100)\n",
        "print('SVM with kernel(poly):',poly_svc1.score(x_petal,y_petal)*100)"
      ],
      "execution_count": 25,
      "outputs": [
        {
          "output_type": "stream",
          "text": [
            "Training Accuracy Score:\n",
            "SVM with kernel(linear): 96.66666666666667\n",
            "SVM with linear svc: 93.33333333333333\n",
            "SVM with kernel(rbf): 96.66666666666667\n",
            "SVM with kernel(poly): 96.66666666666667\n"
          ],
          "name": "stdout"
        }
      ]
    },
    {
      "cell_type": "code",
      "metadata": {
        "id": "EsZEiU6Lcqm_",
        "colab_type": "code",
        "colab": {
          "base_uri": "https://localhost:8080/",
          "height": 101
        },
        "outputId": "d7bbbdd7-edc3-4aa6-a7d4-6acf28027255"
      },
      "source": [
        "print(\"Testing Accuracy Score:\")\n",
        "print('SVM with kernel(linear):',svc1.score(x_test[:,2:],y_test)*100)\n",
        "print('SVM with linear svc:',lin_svc1.score(x_test[:,2:],y_test)*100)\n",
        "print('SVM with kernel(rbf):',rbf_svc1.score(x_test[:,2:],y_test)*100)\n",
        "print('SVM with kernel(poly):',poly_svc1.score(x_test[:,2:],y_test)*100)"
      ],
      "execution_count": 26,
      "outputs": [
        {
          "output_type": "stream",
          "text": [
            "Testing Accuracy Score:\n",
            "SVM with kernel(linear): 96.66666666666667\n",
            "SVM with linear svc: 93.33333333333333\n",
            "SVM with kernel(rbf): 96.66666666666667\n",
            "SVM with kernel(poly): 96.66666666666667\n"
          ],
          "name": "stdout"
        }
      ]
    },
    {
      "cell_type": "code",
      "metadata": {
        "id": "RM22UrLrgWj8",
        "colab_type": "code",
        "colab": {
          "base_uri": "https://localhost:8080/",
          "height": 70
        },
        "outputId": "bab7945a-dfb4-491d-ef91-b0ac38f761f5"
      },
      "source": [
        "#svm models with all features\n",
        "svc2=svm.SVC(kernel='linear', C=1.0).fit(x_train,y_train)\n",
        "lin_svc2 = svm.LinearSVC(C=1.0,max_iter=3000).fit(x_train, y_train)\n",
        "rbf_svc2 = svm.SVC(kernel='rbf', gamma=0.7, C=1.0).fit(x_train, y_train)\n",
        "poly_svc2 = svm.SVC(kernel='poly', degree=3, C=1.0).fit(x_train, y_train)"
      ],
      "execution_count": 27,
      "outputs": [
        {
          "output_type": "stream",
          "text": [
            "/usr/local/lib/python3.6/dist-packages/sklearn/svm/_base.py:947: ConvergenceWarning: Liblinear failed to converge, increase the number of iterations.\n",
            "  \"the number of iterations.\", ConvergenceWarning)\n"
          ],
          "name": "stderr"
        }
      ]
    },
    {
      "cell_type": "code",
      "metadata": {
        "id": "bkEa0Ok1h3sk",
        "colab_type": "code",
        "colab": {}
      },
      "source": [
        "y_pred_svc2=svc2.predict(x_test)\n",
        "y_pred_lin_svc2=lin_svc2.predict(x_test)\n",
        "y_pred_rbf_svc2=rbf_svc2.predict(x_test)\n",
        "y_pred_poly_svc2=poly_svc2.predict(x_test)"
      ],
      "execution_count": 28,
      "outputs": []
    },
    {
      "cell_type": "code",
      "metadata": {
        "id": "ggHE3cZAiEBn",
        "colab_type": "code",
        "colab": {
          "base_uri": "https://localhost:8080/",
          "height": 101
        },
        "outputId": "597da6b9-cda2-42c7-d751-d6be5c77a600"
      },
      "source": [
        "print(\"Accuracy Score:\")\n",
        "print('SVM with kernel(linear):',ac(y_test,y_pred_svc2)*100)\n",
        "print('SVM with linear svc:',ac(y_test,y_pred_lin_svc2)*100)\n",
        "print('SVM with kernel(rbf):',ac(y_test,y_pred_rbf_svc2)*100)\n",
        "print('SVM with kernel(poly):',ac(y_test,y_pred_poly_svc2)*100)"
      ],
      "execution_count": 29,
      "outputs": [
        {
          "output_type": "stream",
          "text": [
            "Accuracy Score:\n",
            "SVM with kernel(linear): 96.66666666666667\n",
            "SVM with linear svc: 93.33333333333333\n",
            "SVM with kernel(rbf): 96.66666666666667\n",
            "SVM with kernel(poly): 96.66666666666667\n"
          ],
          "name": "stdout"
        }
      ]
    }
  ]
}