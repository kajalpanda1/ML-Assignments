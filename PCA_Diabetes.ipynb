{
  "nbformat": 4,
  "nbformat_minor": 0,
  "metadata": {
    "colab": {
      "name": "PCA_Diabetes.ipynb",
      "provenance": [],
      "collapsed_sections": [],
      "authorship_tag": "ABX9TyM+vkTFWm5is3tWck6LHdSo",
      "include_colab_link": true
    },
    "kernelspec": {
      "name": "python3",
      "display_name": "Python 3"
    }
  },
  "cells": [
    {
      "cell_type": "markdown",
      "metadata": {
        "id": "view-in-github",
        "colab_type": "text"
      },
      "source": [
        "<a href=\"https://colab.research.google.com/github/kajalpanda1/ML-Assignments/blob/master/PCA_Diabetes.ipynb\" target=\"_parent\"><img src=\"https://colab.research.google.com/assets/colab-badge.svg\" alt=\"Open In Colab\"/></a>"
      ]
    },
    {
      "cell_type": "code",
      "metadata": {
        "id": "V7GomFuIDUh3",
        "colab_type": "code",
        "colab": {}
      },
      "source": [
        "import pandas as pd\n",
        "import matplotlib.pyplot as plt"
      ],
      "execution_count": null,
      "outputs": []
    },
    {
      "cell_type": "code",
      "metadata": {
        "id": "7SGA8HyKDeeD",
        "colab_type": "code",
        "colab": {
          "resources": {
            "http://localhost:8080/nbextensions/google.colab/files.js": {
              "data": "Ly8gQ29weXJpZ2h0IDIwMTcgR29vZ2xlIExMQwovLwovLyBMaWNlbnNlZCB1bmRlciB0aGUgQXBhY2hlIExpY2Vuc2UsIFZlcnNpb24gMi4wICh0aGUgIkxpY2Vuc2UiKTsKLy8geW91IG1heSBub3QgdXNlIHRoaXMgZmlsZSBleGNlcHQgaW4gY29tcGxpYW5jZSB3aXRoIHRoZSBMaWNlbnNlLgovLyBZb3UgbWF5IG9idGFpbiBhIGNvcHkgb2YgdGhlIExpY2Vuc2UgYXQKLy8KLy8gICAgICBodHRwOi8vd3d3LmFwYWNoZS5vcmcvbGljZW5zZXMvTElDRU5TRS0yLjAKLy8KLy8gVW5sZXNzIHJlcXVpcmVkIGJ5IGFwcGxpY2FibGUgbGF3IG9yIGFncmVlZCB0byBpbiB3cml0aW5nLCBzb2Z0d2FyZQovLyBkaXN0cmlidXRlZCB1bmRlciB0aGUgTGljZW5zZSBpcyBkaXN0cmlidXRlZCBvbiBhbiAiQVMgSVMiIEJBU0lTLAovLyBXSVRIT1VUIFdBUlJBTlRJRVMgT1IgQ09ORElUSU9OUyBPRiBBTlkgS0lORCwgZWl0aGVyIGV4cHJlc3Mgb3IgaW1wbGllZC4KLy8gU2VlIHRoZSBMaWNlbnNlIGZvciB0aGUgc3BlY2lmaWMgbGFuZ3VhZ2UgZ292ZXJuaW5nIHBlcm1pc3Npb25zIGFuZAovLyBsaW1pdGF0aW9ucyB1bmRlciB0aGUgTGljZW5zZS4KCi8qKgogKiBAZmlsZW92ZXJ2aWV3IEhlbHBlcnMgZm9yIGdvb2dsZS5jb2xhYiBQeXRob24gbW9kdWxlLgogKi8KKGZ1bmN0aW9uKHNjb3BlKSB7CmZ1bmN0aW9uIHNwYW4odGV4dCwgc3R5bGVBdHRyaWJ1dGVzID0ge30pIHsKICBjb25zdCBlbGVtZW50ID0gZG9jdW1lbnQuY3JlYXRlRWxlbWVudCgnc3BhbicpOwogIGVsZW1lbnQudGV4dENvbnRlbnQgPSB0ZXh0OwogIGZvciAoY29uc3Qga2V5IG9mIE9iamVjdC5rZXlzKHN0eWxlQXR0cmlidXRlcykpIHsKICAgIGVsZW1lbnQuc3R5bGVba2V5XSA9IHN0eWxlQXR0cmlidXRlc1trZXldOwogIH0KICByZXR1cm4gZWxlbWVudDsKfQoKLy8gTWF4IG51bWJlciBvZiBieXRlcyB3aGljaCB3aWxsIGJlIHVwbG9hZGVkIGF0IGEgdGltZS4KY29uc3QgTUFYX1BBWUxPQURfU0laRSA9IDEwMCAqIDEwMjQ7CgpmdW5jdGlvbiBfdXBsb2FkRmlsZXMoaW5wdXRJZCwgb3V0cHV0SWQpIHsKICBjb25zdCBzdGVwcyA9IHVwbG9hZEZpbGVzU3RlcChpbnB1dElkLCBvdXRwdXRJZCk7CiAgY29uc3Qgb3V0cHV0RWxlbWVudCA9IGRvY3VtZW50LmdldEVsZW1lbnRCeUlkKG91dHB1dElkKTsKICAvLyBDYWNoZSBzdGVwcyBvbiB0aGUgb3V0cHV0RWxlbWVudCB0byBtYWtlIGl0IGF2YWlsYWJsZSBmb3IgdGhlIG5leHQgY2FsbAogIC8vIHRvIHVwbG9hZEZpbGVzQ29udGludWUgZnJvbSBQeXRob24uCiAgb3V0cHV0RWxlbWVudC5zdGVwcyA9IHN0ZXBzOwoKICByZXR1cm4gX3VwbG9hZEZpbGVzQ29udGludWUob3V0cHV0SWQpOwp9CgovLyBUaGlzIGlzIHJvdWdobHkgYW4gYXN5bmMgZ2VuZXJhdG9yIChub3Qgc3VwcG9ydGVkIGluIHRoZSBicm93c2VyIHlldCksCi8vIHdoZXJlIHRoZXJlIGFyZSBtdWx0aXBsZSBhc3luY2hyb25vdXMgc3RlcHMgYW5kIHRoZSBQeXRob24gc2lkZSBpcyBnb2luZwovLyB0byBwb2xsIGZvciBjb21wbGV0aW9uIG9mIGVhY2ggc3RlcC4KLy8gVGhpcyB1c2VzIGEgUHJvbWlzZSB0byBibG9jayB0aGUgcHl0aG9uIHNpZGUgb24gY29tcGxldGlvbiBvZiBlYWNoIHN0ZXAsCi8vIHRoZW4gcGFzc2VzIHRoZSByZXN1bHQgb2YgdGhlIHByZXZpb3VzIHN0ZXAgYXMgdGhlIGlucHV0IHRvIHRoZSBuZXh0IHN0ZXAuCmZ1bmN0aW9uIF91cGxvYWRGaWxlc0NvbnRpbnVlKG91dHB1dElkKSB7CiAgY29uc3Qgb3V0cHV0RWxlbWVudCA9IGRvY3VtZW50LmdldEVsZW1lbnRCeUlkKG91dHB1dElkKTsKICBjb25zdCBzdGVwcyA9IG91dHB1dEVsZW1lbnQuc3RlcHM7CgogIGNvbnN0IG5leHQgPSBzdGVwcy5uZXh0KG91dHB1dEVsZW1lbnQubGFzdFByb21pc2VWYWx1ZSk7CiAgcmV0dXJuIFByb21pc2UucmVzb2x2ZShuZXh0LnZhbHVlLnByb21pc2UpLnRoZW4oKHZhbHVlKSA9PiB7CiAgICAvLyBDYWNoZSB0aGUgbGFzdCBwcm9taXNlIHZhbHVlIHRvIG1ha2UgaXQgYXZhaWxhYmxlIHRvIHRoZSBuZXh0CiAgICAvLyBzdGVwIG9mIHRoZSBnZW5lcmF0b3IuCiAgICBvdXRwdXRFbGVtZW50Lmxhc3RQcm9taXNlVmFsdWUgPSB2YWx1ZTsKICAgIHJldHVybiBuZXh0LnZhbHVlLnJlc3BvbnNlOwogIH0pOwp9CgovKioKICogR2VuZXJhdG9yIGZ1bmN0aW9uIHdoaWNoIGlzIGNhbGxlZCBiZXR3ZWVuIGVhY2ggYXN5bmMgc3RlcCBvZiB0aGUgdXBsb2FkCiAqIHByb2Nlc3MuCiAqIEBwYXJhbSB7c3RyaW5nfSBpbnB1dElkIEVsZW1lbnQgSUQgb2YgdGhlIGlucHV0IGZpbGUgcGlja2VyIGVsZW1lbnQuCiAqIEBwYXJhbSB7c3RyaW5nfSBvdXRwdXRJZCBFbGVtZW50IElEIG9mIHRoZSBvdXRwdXQgZGlzcGxheS4KICogQHJldHVybiB7IUl0ZXJhYmxlPCFPYmplY3Q+fSBJdGVyYWJsZSBvZiBuZXh0IHN0ZXBzLgogKi8KZnVuY3Rpb24qIHVwbG9hZEZpbGVzU3RlcChpbnB1dElkLCBvdXRwdXRJZCkgewogIGNvbnN0IGlucHV0RWxlbWVudCA9IGRvY3VtZW50LmdldEVsZW1lbnRCeUlkKGlucHV0SWQpOwogIGlucHV0RWxlbWVudC5kaXNhYmxlZCA9IGZhbHNlOwoKICBjb25zdCBvdXRwdXRFbGVtZW50ID0gZG9jdW1lbnQuZ2V0RWxlbWVudEJ5SWQob3V0cHV0SWQpOwogIG91dHB1dEVsZW1lbnQuaW5uZXJIVE1MID0gJyc7CgogIGNvbnN0IHBpY2tlZFByb21pc2UgPSBuZXcgUHJvbWlzZSgocmVzb2x2ZSkgPT4gewogICAgaW5wdXRFbGVtZW50LmFkZEV2ZW50TGlzdGVuZXIoJ2NoYW5nZScsIChlKSA9PiB7CiAgICAgIHJlc29sdmUoZS50YXJnZXQuZmlsZXMpOwogICAgfSk7CiAgfSk7CgogIGNvbnN0IGNhbmNlbCA9IGRvY3VtZW50LmNyZWF0ZUVsZW1lbnQoJ2J1dHRvbicpOwogIGlucHV0RWxlbWVudC5wYXJlbnRFbGVtZW50LmFwcGVuZENoaWxkKGNhbmNlbCk7CiAgY2FuY2VsLnRleHRDb250ZW50ID0gJ0NhbmNlbCB1cGxvYWQnOwogIGNvbnN0IGNhbmNlbFByb21pc2UgPSBuZXcgUHJvbWlzZSgocmVzb2x2ZSkgPT4gewogICAgY2FuY2VsLm9uY2xpY2sgPSAoKSA9PiB7CiAgICAgIHJlc29sdmUobnVsbCk7CiAgICB9OwogIH0pOwoKICAvLyBXYWl0IGZvciB0aGUgdXNlciB0byBwaWNrIHRoZSBmaWxlcy4KICBjb25zdCBmaWxlcyA9IHlpZWxkIHsKICAgIHByb21pc2U6IFByb21pc2UucmFjZShbcGlja2VkUHJvbWlzZSwgY2FuY2VsUHJvbWlzZV0pLAogICAgcmVzcG9uc2U6IHsKICAgICAgYWN0aW9uOiAnc3RhcnRpbmcnLAogICAgfQogIH07CgogIGNhbmNlbC5yZW1vdmUoKTsKCiAgLy8gRGlzYWJsZSB0aGUgaW5wdXQgZWxlbWVudCBzaW5jZSBmdXJ0aGVyIHBpY2tzIGFyZSBub3QgYWxsb3dlZC4KICBpbnB1dEVsZW1lbnQuZGlzYWJsZWQgPSB0cnVlOwoKICBpZiAoIWZpbGVzKSB7CiAgICByZXR1cm4gewogICAgICByZXNwb25zZTogewogICAgICAgIGFjdGlvbjogJ2NvbXBsZXRlJywKICAgICAgfQogICAgfTsKICB9CgogIGZvciAoY29uc3QgZmlsZSBvZiBmaWxlcykgewogICAgY29uc3QgbGkgPSBkb2N1bWVudC5jcmVhdGVFbGVtZW50KCdsaScpOwogICAgbGkuYXBwZW5kKHNwYW4oZmlsZS5uYW1lLCB7Zm9udFdlaWdodDogJ2JvbGQnfSkpOwogICAgbGkuYXBwZW5kKHNwYW4oCiAgICAgICAgYCgke2ZpbGUudHlwZSB8fCAnbi9hJ30pIC0gJHtmaWxlLnNpemV9IGJ5dGVzLCBgICsKICAgICAgICBgbGFzdCBtb2RpZmllZDogJHsKICAgICAgICAgICAgZmlsZS5sYXN0TW9kaWZpZWREYXRlID8gZmlsZS5sYXN0TW9kaWZpZWREYXRlLnRvTG9jYWxlRGF0ZVN0cmluZygpIDoKICAgICAgICAgICAgICAgICAgICAgICAgICAgICAgICAgICAgJ24vYSd9IC0gYCkpOwogICAgY29uc3QgcGVyY2VudCA9IHNwYW4oJzAlIGRvbmUnKTsKICAgIGxpLmFwcGVuZENoaWxkKHBlcmNlbnQpOwoKICAgIG91dHB1dEVsZW1lbnQuYXBwZW5kQ2hpbGQobGkpOwoKICAgIGNvbnN0IGZpbGVEYXRhUHJvbWlzZSA9IG5ldyBQcm9taXNlKChyZXNvbHZlKSA9PiB7CiAgICAgIGNvbnN0IHJlYWRlciA9IG5ldyBGaWxlUmVhZGVyKCk7CiAgICAgIHJlYWRlci5vbmxvYWQgPSAoZSkgPT4gewogICAgICAgIHJlc29sdmUoZS50YXJnZXQucmVzdWx0KTsKICAgICAgfTsKICAgICAgcmVhZGVyLnJlYWRBc0FycmF5QnVmZmVyKGZpbGUpOwogICAgfSk7CiAgICAvLyBXYWl0IGZvciB0aGUgZGF0YSB0byBiZSByZWFkeS4KICAgIGxldCBmaWxlRGF0YSA9IHlpZWxkIHsKICAgICAgcHJvbWlzZTogZmlsZURhdGFQcm9taXNlLAogICAgICByZXNwb25zZTogewogICAgICAgIGFjdGlvbjogJ2NvbnRpbnVlJywKICAgICAgfQogICAgfTsKCiAgICAvLyBVc2UgYSBjaHVua2VkIHNlbmRpbmcgdG8gYXZvaWQgbWVzc2FnZSBzaXplIGxpbWl0cy4gU2VlIGIvNjIxMTU2NjAuCiAgICBsZXQgcG9zaXRpb24gPSAwOwogICAgd2hpbGUgKHBvc2l0aW9uIDwgZmlsZURhdGEuYnl0ZUxlbmd0aCkgewogICAgICBjb25zdCBsZW5ndGggPSBNYXRoLm1pbihmaWxlRGF0YS5ieXRlTGVuZ3RoIC0gcG9zaXRpb24sIE1BWF9QQVlMT0FEX1NJWkUpOwogICAgICBjb25zdCBjaHVuayA9IG5ldyBVaW50OEFycmF5KGZpbGVEYXRhLCBwb3NpdGlvbiwgbGVuZ3RoKTsKICAgICAgcG9zaXRpb24gKz0gbGVuZ3RoOwoKICAgICAgY29uc3QgYmFzZTY0ID0gYnRvYShTdHJpbmcuZnJvbUNoYXJDb2RlLmFwcGx5KG51bGwsIGNodW5rKSk7CiAgICAgIHlpZWxkIHsKICAgICAgICByZXNwb25zZTogewogICAgICAgICAgYWN0aW9uOiAnYXBwZW5kJywKICAgICAgICAgIGZpbGU6IGZpbGUubmFtZSwKICAgICAgICAgIGRhdGE6IGJhc2U2NCwKICAgICAgICB9LAogICAgICB9OwogICAgICBwZXJjZW50LnRleHRDb250ZW50ID0KICAgICAgICAgIGAke01hdGgucm91bmQoKHBvc2l0aW9uIC8gZmlsZURhdGEuYnl0ZUxlbmd0aCkgKiAxMDApfSUgZG9uZWA7CiAgICB9CiAgfQoKICAvLyBBbGwgZG9uZS4KICB5aWVsZCB7CiAgICByZXNwb25zZTogewogICAgICBhY3Rpb246ICdjb21wbGV0ZScsCiAgICB9CiAgfTsKfQoKc2NvcGUuZ29vZ2xlID0gc2NvcGUuZ29vZ2xlIHx8IHt9OwpzY29wZS5nb29nbGUuY29sYWIgPSBzY29wZS5nb29nbGUuY29sYWIgfHwge307CnNjb3BlLmdvb2dsZS5jb2xhYi5fZmlsZXMgPSB7CiAgX3VwbG9hZEZpbGVzLAogIF91cGxvYWRGaWxlc0NvbnRpbnVlLAp9Owp9KShzZWxmKTsK",
              "ok": true,
              "headers": [
                [
                  "content-type",
                  "application/javascript"
                ]
              ],
              "status": 200,
              "status_text": ""
            }
          },
          "base_uri": "https://localhost:8080/",
          "height": 73
        },
        "outputId": "f4f712e5-ea94-41cc-cf3a-87f7e5100adf"
      },
      "source": [
        "from google.colab import files\n",
        "uploaded=files.upload()"
      ],
      "execution_count": null,
      "outputs": [
        {
          "output_type": "display_data",
          "data": {
            "text/html": [
              "\n",
              "     <input type=\"file\" id=\"files-3fb714d0-3461-421e-bdf3-3a8885ec6383\" name=\"files[]\" multiple disabled\n",
              "        style=\"border:none\" />\n",
              "     <output id=\"result-3fb714d0-3461-421e-bdf3-3a8885ec6383\">\n",
              "      Upload widget is only available when the cell has been executed in the\n",
              "      current browser session. Please rerun this cell to enable.\n",
              "      </output>\n",
              "      <script src=\"/nbextensions/google.colab/files.js\"></script> "
            ],
            "text/plain": [
              "<IPython.core.display.HTML object>"
            ]
          },
          "metadata": {
            "tags": []
          }
        },
        {
          "output_type": "stream",
          "text": [
            "Saving Diabetes.csv to Diabetes.csv\n"
          ],
          "name": "stdout"
        }
      ]
    },
    {
      "cell_type": "code",
      "metadata": {
        "id": "5xy1Q6CzECGS",
        "colab_type": "code",
        "colab": {}
      },
      "source": [
        "import io\n",
        "df=pd.read_csv(io.StringIO(uploaded['Diabetes.csv'].decode('utf-8')))"
      ],
      "execution_count": null,
      "outputs": []
    },
    {
      "cell_type": "code",
      "metadata": {
        "id": "kBUnn2o3EjuT",
        "colab_type": "code",
        "colab": {
          "base_uri": "https://localhost:8080/",
          "height": 195
        },
        "outputId": "46b5bbbd-6559-4d23-db81-69547507c4fb"
      },
      "source": [
        "df.head()"
      ],
      "execution_count": null,
      "outputs": [
        {
          "output_type": "execute_result",
          "data": {
            "text/html": [
              "<div>\n",
              "<style scoped>\n",
              "    .dataframe tbody tr th:only-of-type {\n",
              "        vertical-align: middle;\n",
              "    }\n",
              "\n",
              "    .dataframe tbody tr th {\n",
              "        vertical-align: top;\n",
              "    }\n",
              "\n",
              "    .dataframe thead th {\n",
              "        text-align: right;\n",
              "    }\n",
              "</style>\n",
              "<table border=\"1\" class=\"dataframe\">\n",
              "  <thead>\n",
              "    <tr style=\"text-align: right;\">\n",
              "      <th></th>\n",
              "      <th>preg</th>\n",
              "      <th>plas</th>\n",
              "      <th>pres</th>\n",
              "      <th>skin</th>\n",
              "      <th>insu</th>\n",
              "      <th>mass</th>\n",
              "      <th>pedi</th>\n",
              "      <th>age</th>\n",
              "      <th>class</th>\n",
              "    </tr>\n",
              "  </thead>\n",
              "  <tbody>\n",
              "    <tr>\n",
              "      <th>0</th>\n",
              "      <td>6</td>\n",
              "      <td>148</td>\n",
              "      <td>72</td>\n",
              "      <td>35</td>\n",
              "      <td>0</td>\n",
              "      <td>33.6</td>\n",
              "      <td>0.627</td>\n",
              "      <td>50</td>\n",
              "      <td>tested_positive</td>\n",
              "    </tr>\n",
              "    <tr>\n",
              "      <th>1</th>\n",
              "      <td>1</td>\n",
              "      <td>85</td>\n",
              "      <td>66</td>\n",
              "      <td>29</td>\n",
              "      <td>0</td>\n",
              "      <td>26.6</td>\n",
              "      <td>0.351</td>\n",
              "      <td>31</td>\n",
              "      <td>tested_negative</td>\n",
              "    </tr>\n",
              "    <tr>\n",
              "      <th>2</th>\n",
              "      <td>8</td>\n",
              "      <td>183</td>\n",
              "      <td>64</td>\n",
              "      <td>0</td>\n",
              "      <td>0</td>\n",
              "      <td>23.3</td>\n",
              "      <td>0.672</td>\n",
              "      <td>32</td>\n",
              "      <td>tested_positive</td>\n",
              "    </tr>\n",
              "    <tr>\n",
              "      <th>3</th>\n",
              "      <td>1</td>\n",
              "      <td>89</td>\n",
              "      <td>66</td>\n",
              "      <td>23</td>\n",
              "      <td>94</td>\n",
              "      <td>28.1</td>\n",
              "      <td>0.167</td>\n",
              "      <td>21</td>\n",
              "      <td>tested_negative</td>\n",
              "    </tr>\n",
              "    <tr>\n",
              "      <th>4</th>\n",
              "      <td>0</td>\n",
              "      <td>137</td>\n",
              "      <td>40</td>\n",
              "      <td>35</td>\n",
              "      <td>168</td>\n",
              "      <td>43.1</td>\n",
              "      <td>2.288</td>\n",
              "      <td>33</td>\n",
              "      <td>tested_positive</td>\n",
              "    </tr>\n",
              "  </tbody>\n",
              "</table>\n",
              "</div>"
            ],
            "text/plain": [
              "   preg  plas  pres  skin  insu  mass   pedi  age            class\n",
              "0     6   148    72    35     0  33.6  0.627   50  tested_positive\n",
              "1     1    85    66    29     0  26.6  0.351   31  tested_negative\n",
              "2     8   183    64     0     0  23.3  0.672   32  tested_positive\n",
              "3     1    89    66    23    94  28.1  0.167   21  tested_negative\n",
              "4     0   137    40    35   168  43.1  2.288   33  tested_positive"
            ]
          },
          "metadata": {
            "tags": []
          },
          "execution_count": 6
        }
      ]
    },
    {
      "cell_type": "code",
      "metadata": {
        "id": "2y-ygfmWElOE",
        "colab_type": "code",
        "colab": {}
      },
      "source": [
        "from sklearn.preprocessing import StandardScaler"
      ],
      "execution_count": null,
      "outputs": []
    },
    {
      "cell_type": "code",
      "metadata": {
        "id": "MJ_vmOYUEwT-",
        "colab_type": "code",
        "colab": {}
      },
      "source": [
        "X=df.iloc[:,:-1].values"
      ],
      "execution_count": null,
      "outputs": []
    },
    {
      "cell_type": "code",
      "metadata": {
        "id": "vcf0yIjQFJD-",
        "colab_type": "code",
        "colab": {
          "base_uri": "https://localhost:8080/",
          "height": 134
        },
        "outputId": "3a4df160-9a5b-4fdc-e238-ddfe957096b6"
      },
      "source": [
        "X"
      ],
      "execution_count": null,
      "outputs": [
        {
          "output_type": "execute_result",
          "data": {
            "text/plain": [
              "array([[  6.   , 148.   ,  72.   , ...,  33.6  ,   0.627,  50.   ],\n",
              "       [  1.   ,  85.   ,  66.   , ...,  26.6  ,   0.351,  31.   ],\n",
              "       [  8.   , 183.   ,  64.   , ...,  23.3  ,   0.672,  32.   ],\n",
              "       ...,\n",
              "       [  5.   , 121.   ,  72.   , ...,  26.2  ,   0.245,  30.   ],\n",
              "       [  1.   , 126.   ,  60.   , ...,  30.1  ,   0.349,  47.   ],\n",
              "       [  1.   ,  93.   ,  70.   , ...,  30.4  ,   0.315,  23.   ]])"
            ]
          },
          "metadata": {
            "tags": []
          },
          "execution_count": 41
        }
      ]
    },
    {
      "cell_type": "code",
      "metadata": {
        "id": "mCgPW89BFJ3f",
        "colab_type": "code",
        "colab": {}
      },
      "source": [
        "X = StandardScaler().fit_transform(X)"
      ],
      "execution_count": null,
      "outputs": []
    },
    {
      "cell_type": "code",
      "metadata": {
        "id": "Mbgbe96UFrWB",
        "colab_type": "code",
        "colab": {
          "base_uri": "https://localhost:8080/",
          "height": 235
        },
        "outputId": "8d258e24-45be-448e-ac75-752c2bea8531"
      },
      "source": [
        "X"
      ],
      "execution_count": null,
      "outputs": [
        {
          "output_type": "execute_result",
          "data": {
            "text/plain": [
              "array([[ 0.63994726,  0.84832379,  0.14964075, ...,  0.20401277,\n",
              "         0.46849198,  1.4259954 ],\n",
              "       [-0.84488505, -1.12339636, -0.16054575, ..., -0.68442195,\n",
              "        -0.36506078, -0.19067191],\n",
              "       [ 1.23388019,  1.94372388, -0.26394125, ..., -1.10325546,\n",
              "         0.60439732, -0.10558415],\n",
              "       ...,\n",
              "       [ 0.3429808 ,  0.00330087,  0.14964075, ..., -0.73518964,\n",
              "        -0.68519336, -0.27575966],\n",
              "       [-0.84488505,  0.1597866 , -0.47073225, ..., -0.24020459,\n",
              "        -0.37110101,  1.17073215],\n",
              "       [-0.84488505, -0.8730192 ,  0.04624525, ..., -0.20212881,\n",
              "        -0.47378505, -0.87137393]])"
            ]
          },
          "metadata": {
            "tags": []
          },
          "execution_count": 52
        }
      ]
    },
    {
      "cell_type": "code",
      "metadata": {
        "id": "-MwWrNU8FtyF",
        "colab_type": "code",
        "colab": {}
      },
      "source": [
        "Y=df.loc[:,'class'].values"
      ],
      "execution_count": null,
      "outputs": []
    },
    {
      "cell_type": "code",
      "metadata": {
        "id": "GNyFiq7MF2CX",
        "colab_type": "code",
        "colab": {
          "base_uri": "https://localhost:8080/",
          "height": 1000
        },
        "outputId": "924ce12c-8150-4d82-f767-77840eff331a"
      },
      "source": [
        "Y"
      ],
      "execution_count": null,
      "outputs": [
        {
          "output_type": "execute_result",
          "data": {
            "text/plain": [
              "array(['tested_positive', 'tested_negative', 'tested_positive',\n",
              "       'tested_negative', 'tested_positive', 'tested_negative',\n",
              "       'tested_positive', 'tested_negative', 'tested_positive',\n",
              "       'tested_positive', 'tested_negative', 'tested_positive',\n",
              "       'tested_negative', 'tested_positive', 'tested_positive',\n",
              "       'tested_positive', 'tested_positive', 'tested_positive',\n",
              "       'tested_negative', 'tested_positive', 'tested_negative',\n",
              "       'tested_negative', 'tested_positive', 'tested_positive',\n",
              "       'tested_positive', 'tested_positive', 'tested_positive',\n",
              "       'tested_negative', 'tested_negative', 'tested_negative',\n",
              "       'tested_negative', 'tested_positive', 'tested_negative',\n",
              "       'tested_negative', 'tested_negative', 'tested_negative',\n",
              "       'tested_negative', 'tested_positive', 'tested_positive',\n",
              "       'tested_positive', 'tested_negative', 'tested_negative',\n",
              "       'tested_negative', 'tested_positive', 'tested_negative',\n",
              "       'tested_positive', 'tested_negative', 'tested_negative',\n",
              "       'tested_positive', 'tested_negative', 'tested_negative',\n",
              "       'tested_negative', 'tested_negative', 'tested_positive',\n",
              "       'tested_negative', 'tested_negative', 'tested_positive',\n",
              "       'tested_negative', 'tested_negative', 'tested_negative',\n",
              "       'tested_negative', 'tested_positive', 'tested_negative',\n",
              "       'tested_negative', 'tested_positive', 'tested_negative',\n",
              "       'tested_positive', 'tested_negative', 'tested_negative',\n",
              "       'tested_negative', 'tested_positive', 'tested_negative',\n",
              "       'tested_positive', 'tested_negative', 'tested_negative',\n",
              "       'tested_negative', 'tested_negative', 'tested_negative',\n",
              "       'tested_positive', 'tested_negative', 'tested_negative',\n",
              "       'tested_negative', 'tested_negative', 'tested_negative',\n",
              "       'tested_positive', 'tested_negative', 'tested_negative',\n",
              "       'tested_negative', 'tested_positive', 'tested_negative',\n",
              "       'tested_negative', 'tested_negative', 'tested_negative',\n",
              "       'tested_positive', 'tested_negative', 'tested_negative',\n",
              "       'tested_negative', 'tested_negative', 'tested_negative',\n",
              "       'tested_positive', 'tested_positive', 'tested_negative',\n",
              "       'tested_negative', 'tested_negative', 'tested_negative',\n",
              "       'tested_negative', 'tested_negative', 'tested_negative',\n",
              "       'tested_negative', 'tested_positive', 'tested_positive',\n",
              "       'tested_positive', 'tested_negative', 'tested_negative',\n",
              "       'tested_positive', 'tested_positive', 'tested_positive',\n",
              "       'tested_negative', 'tested_negative', 'tested_negative',\n",
              "       'tested_positive', 'tested_negative', 'tested_negative',\n",
              "       'tested_negative', 'tested_positive', 'tested_positive',\n",
              "       'tested_negative', 'tested_negative', 'tested_positive',\n",
              "       'tested_positive', 'tested_positive', 'tested_positive',\n",
              "       'tested_positive', 'tested_negative', 'tested_negative',\n",
              "       'tested_negative', 'tested_negative', 'tested_negative',\n",
              "       'tested_negative', 'tested_negative', 'tested_negative',\n",
              "       'tested_negative', 'tested_negative', 'tested_positive',\n",
              "       'tested_negative', 'tested_negative', 'tested_negative',\n",
              "       'tested_negative', 'tested_negative', 'tested_negative',\n",
              "       'tested_negative', 'tested_negative', 'tested_positive',\n",
              "       'tested_negative', 'tested_positive', 'tested_positive',\n",
              "       'tested_negative', 'tested_negative', 'tested_negative',\n",
              "       'tested_positive', 'tested_negative', 'tested_negative',\n",
              "       'tested_negative', 'tested_negative', 'tested_positive',\n",
              "       'tested_positive', 'tested_negative', 'tested_negative',\n",
              "       'tested_negative', 'tested_negative', 'tested_positive',\n",
              "       'tested_positive', 'tested_negative', 'tested_negative',\n",
              "       'tested_negative', 'tested_positive', 'tested_negative',\n",
              "       'tested_positive', 'tested_negative', 'tested_positive',\n",
              "       'tested_negative', 'tested_negative', 'tested_negative',\n",
              "       'tested_negative', 'tested_negative', 'tested_positive',\n",
              "       'tested_positive', 'tested_positive', 'tested_positive',\n",
              "       'tested_positive', 'tested_negative', 'tested_negative',\n",
              "       'tested_positive', 'tested_positive', 'tested_negative',\n",
              "       'tested_positive', 'tested_negative', 'tested_positive',\n",
              "       'tested_positive', 'tested_positive', 'tested_negative',\n",
              "       'tested_negative', 'tested_negative', 'tested_negative',\n",
              "       'tested_negative', 'tested_negative', 'tested_positive',\n",
              "       'tested_positive', 'tested_negative', 'tested_positive',\n",
              "       'tested_negative', 'tested_negative', 'tested_negative',\n",
              "       'tested_positive', 'tested_positive', 'tested_positive',\n",
              "       'tested_positive', 'tested_negative', 'tested_positive',\n",
              "       'tested_positive', 'tested_positive', 'tested_positive',\n",
              "       'tested_negative', 'tested_negative', 'tested_negative',\n",
              "       'tested_negative', 'tested_negative', 'tested_positive',\n",
              "       'tested_negative', 'tested_negative', 'tested_positive',\n",
              "       'tested_positive', 'tested_negative', 'tested_negative',\n",
              "       'tested_negative', 'tested_positive', 'tested_positive',\n",
              "       'tested_positive', 'tested_positive', 'tested_negative',\n",
              "       'tested_negative', 'tested_negative', 'tested_positive',\n",
              "       'tested_positive', 'tested_negative', 'tested_positive',\n",
              "       'tested_negative', 'tested_negative', 'tested_negative',\n",
              "       'tested_negative', 'tested_negative', 'tested_negative',\n",
              "       'tested_negative', 'tested_negative', 'tested_positive',\n",
              "       'tested_positive', 'tested_negative', 'tested_negative',\n",
              "       'tested_negative', 'tested_positive', 'tested_negative',\n",
              "       'tested_positive', 'tested_negative', 'tested_negative',\n",
              "       'tested_positive', 'tested_negative', 'tested_positive',\n",
              "       'tested_negative', 'tested_negative', 'tested_positive',\n",
              "       'tested_positive', 'tested_negative', 'tested_negative',\n",
              "       'tested_negative', 'tested_negative', 'tested_negative',\n",
              "       'tested_positive', 'tested_negative', 'tested_negative',\n",
              "       'tested_negative', 'tested_positive', 'tested_negative',\n",
              "       'tested_negative', 'tested_positive', 'tested_positive',\n",
              "       'tested_negative', 'tested_negative', 'tested_positive',\n",
              "       'tested_negative', 'tested_negative', 'tested_negative',\n",
              "       'tested_positive', 'tested_positive', 'tested_positive',\n",
              "       'tested_negative', 'tested_negative', 'tested_positive',\n",
              "       'tested_negative', 'tested_positive', 'tested_negative',\n",
              "       'tested_positive', 'tested_positive', 'tested_negative',\n",
              "       'tested_positive', 'tested_negative', 'tested_negative',\n",
              "       'tested_positive', 'tested_negative', 'tested_positive',\n",
              "       'tested_positive', 'tested_negative', 'tested_negative',\n",
              "       'tested_positive', 'tested_negative', 'tested_positive',\n",
              "       'tested_negative', 'tested_negative', 'tested_positive',\n",
              "       'tested_negative', 'tested_positive', 'tested_negative',\n",
              "       'tested_positive', 'tested_positive', 'tested_positive',\n",
              "       'tested_negative', 'tested_negative', 'tested_positive',\n",
              "       'tested_negative', 'tested_positive', 'tested_negative',\n",
              "       'tested_negative', 'tested_negative', 'tested_positive',\n",
              "       'tested_negative', 'tested_negative', 'tested_negative',\n",
              "       'tested_negative', 'tested_positive', 'tested_positive',\n",
              "       'tested_positive', 'tested_negative', 'tested_negative',\n",
              "       'tested_negative', 'tested_negative', 'tested_negative',\n",
              "       'tested_negative', 'tested_negative', 'tested_negative',\n",
              "       'tested_negative', 'tested_positive', 'tested_negative',\n",
              "       'tested_negative', 'tested_negative', 'tested_negative',\n",
              "       'tested_negative', 'tested_positive', 'tested_positive',\n",
              "       'tested_positive', 'tested_negative', 'tested_positive',\n",
              "       'tested_positive', 'tested_negative', 'tested_negative',\n",
              "       'tested_positive', 'tested_negative', 'tested_negative',\n",
              "       'tested_positive', 'tested_negative', 'tested_negative',\n",
              "       'tested_positive', 'tested_positive', 'tested_negative',\n",
              "       'tested_negative', 'tested_negative', 'tested_negative',\n",
              "       'tested_positive', 'tested_negative', 'tested_negative',\n",
              "       'tested_positive', 'tested_negative', 'tested_negative',\n",
              "       'tested_negative', 'tested_negative', 'tested_negative',\n",
              "       'tested_negative', 'tested_negative', 'tested_positive',\n",
              "       'tested_positive', 'tested_positive', 'tested_negative',\n",
              "       'tested_negative', 'tested_positive', 'tested_negative',\n",
              "       'tested_negative', 'tested_positive', 'tested_negative',\n",
              "       'tested_negative', 'tested_positive', 'tested_negative',\n",
              "       'tested_positive', 'tested_positive', 'tested_negative',\n",
              "       'tested_positive', 'tested_negative', 'tested_positive',\n",
              "       'tested_negative', 'tested_positive', 'tested_negative',\n",
              "       'tested_positive', 'tested_positive', 'tested_negative',\n",
              "       'tested_negative', 'tested_negative', 'tested_negative',\n",
              "       'tested_positive', 'tested_positive', 'tested_negative',\n",
              "       'tested_positive', 'tested_negative', 'tested_positive',\n",
              "       'tested_negative', 'tested_negative', 'tested_negative',\n",
              "       'tested_negative', 'tested_positive', 'tested_positive',\n",
              "       'tested_negative', 'tested_positive', 'tested_negative',\n",
              "       'tested_positive', 'tested_negative', 'tested_negative',\n",
              "       'tested_negative', 'tested_negative', 'tested_negative',\n",
              "       'tested_positive', 'tested_negative', 'tested_negative',\n",
              "       'tested_negative', 'tested_negative', 'tested_positive',\n",
              "       'tested_negative', 'tested_negative', 'tested_positive',\n",
              "       'tested_positive', 'tested_positive', 'tested_negative',\n",
              "       'tested_negative', 'tested_positive', 'tested_negative',\n",
              "       'tested_negative', 'tested_positive', 'tested_negative',\n",
              "       'tested_negative', 'tested_negative', 'tested_positive',\n",
              "       'tested_negative', 'tested_negative', 'tested_positive',\n",
              "       'tested_negative', 'tested_negative', 'tested_negative',\n",
              "       'tested_negative', 'tested_negative', 'tested_negative',\n",
              "       'tested_negative', 'tested_negative', 'tested_negative',\n",
              "       'tested_positive', 'tested_negative', 'tested_negative',\n",
              "       'tested_negative', 'tested_negative', 'tested_negative',\n",
              "       'tested_negative', 'tested_negative', 'tested_positive',\n",
              "       'tested_negative', 'tested_negative', 'tested_negative',\n",
              "       'tested_positive', 'tested_negative', 'tested_negative',\n",
              "       'tested_negative', 'tested_positive', 'tested_positive',\n",
              "       'tested_negative', 'tested_negative', 'tested_negative',\n",
              "       'tested_negative', 'tested_negative', 'tested_negative',\n",
              "       'tested_negative', 'tested_positive', 'tested_negative',\n",
              "       'tested_negative', 'tested_negative', 'tested_negative',\n",
              "       'tested_positive', 'tested_negative', 'tested_negative',\n",
              "       'tested_negative', 'tested_positive', 'tested_negative',\n",
              "       'tested_negative', 'tested_negative', 'tested_positive',\n",
              "       'tested_negative', 'tested_negative', 'tested_negative',\n",
              "       'tested_positive', 'tested_negative', 'tested_negative',\n",
              "       'tested_negative', 'tested_negative', 'tested_positive',\n",
              "       'tested_positive', 'tested_negative', 'tested_negative',\n",
              "       'tested_negative', 'tested_negative', 'tested_negative',\n",
              "       'tested_negative', 'tested_positive', 'tested_negative',\n",
              "       'tested_negative', 'tested_negative', 'tested_negative',\n",
              "       'tested_negative', 'tested_negative', 'tested_negative',\n",
              "       'tested_negative', 'tested_negative', 'tested_negative',\n",
              "       'tested_negative', 'tested_positive', 'tested_negative',\n",
              "       'tested_negative', 'tested_negative', 'tested_positive',\n",
              "       'tested_positive', 'tested_positive', 'tested_positive',\n",
              "       'tested_negative', 'tested_negative', 'tested_positive',\n",
              "       'tested_positive', 'tested_negative', 'tested_negative',\n",
              "       'tested_negative', 'tested_negative', 'tested_negative',\n",
              "       'tested_negative', 'tested_negative', 'tested_negative',\n",
              "       'tested_negative', 'tested_negative', 'tested_negative',\n",
              "       'tested_negative', 'tested_negative', 'tested_positive',\n",
              "       'tested_positive', 'tested_negative', 'tested_negative',\n",
              "       'tested_negative', 'tested_negative', 'tested_negative',\n",
              "       'tested_negative', 'tested_negative', 'tested_positive',\n",
              "       'tested_negative', 'tested_negative', 'tested_negative',\n",
              "       'tested_negative', 'tested_negative', 'tested_negative',\n",
              "       'tested_negative', 'tested_positive', 'tested_negative',\n",
              "       'tested_positive', 'tested_positive', 'tested_negative',\n",
              "       'tested_negative', 'tested_negative', 'tested_positive',\n",
              "       'tested_negative', 'tested_positive', 'tested_negative',\n",
              "       'tested_positive', 'tested_negative', 'tested_positive',\n",
              "       'tested_negative', 'tested_positive', 'tested_negative',\n",
              "       'tested_negative', 'tested_positive', 'tested_negative',\n",
              "       'tested_negative', 'tested_positive', 'tested_negative',\n",
              "       'tested_negative', 'tested_negative', 'tested_negative',\n",
              "       'tested_positive', 'tested_positive', 'tested_negative',\n",
              "       'tested_positive', 'tested_negative', 'tested_negative',\n",
              "       'tested_negative', 'tested_negative', 'tested_positive',\n",
              "       'tested_positive', 'tested_negative', 'tested_positive',\n",
              "       'tested_negative', 'tested_negative', 'tested_negative',\n",
              "       'tested_positive', 'tested_positive', 'tested_negative',\n",
              "       'tested_negative', 'tested_negative', 'tested_negative',\n",
              "       'tested_negative', 'tested_negative', 'tested_negative',\n",
              "       'tested_negative', 'tested_negative', 'tested_negative',\n",
              "       'tested_positive', 'tested_negative', 'tested_negative',\n",
              "       'tested_negative', 'tested_negative', 'tested_positive',\n",
              "       'tested_negative', 'tested_negative', 'tested_positive',\n",
              "       'tested_negative', 'tested_negative', 'tested_negative',\n",
              "       'tested_positive', 'tested_negative', 'tested_negative',\n",
              "       'tested_negative', 'tested_positive', 'tested_positive',\n",
              "       'tested_positive', 'tested_negative', 'tested_negative',\n",
              "       'tested_negative', 'tested_negative', 'tested_negative',\n",
              "       'tested_negative', 'tested_positive', 'tested_negative',\n",
              "       'tested_negative', 'tested_negative', 'tested_positive',\n",
              "       'tested_negative', 'tested_positive', 'tested_positive',\n",
              "       'tested_positive', 'tested_positive', 'tested_negative',\n",
              "       'tested_positive', 'tested_positive', 'tested_negative',\n",
              "       'tested_negative', 'tested_negative', 'tested_negative',\n",
              "       'tested_negative', 'tested_negative', 'tested_negative',\n",
              "       'tested_positive', 'tested_positive', 'tested_negative',\n",
              "       'tested_positive', 'tested_negative', 'tested_negative',\n",
              "       'tested_positive', 'tested_negative', 'tested_positive',\n",
              "       'tested_negative', 'tested_negative', 'tested_negative',\n",
              "       'tested_negative', 'tested_negative', 'tested_positive',\n",
              "       'tested_negative', 'tested_positive', 'tested_negative',\n",
              "       'tested_positive', 'tested_negative', 'tested_positive',\n",
              "       'tested_positive', 'tested_negative', 'tested_negative',\n",
              "       'tested_negative', 'tested_negative', 'tested_positive',\n",
              "       'tested_positive', 'tested_negative', 'tested_negative',\n",
              "       'tested_negative', 'tested_positive', 'tested_negative',\n",
              "       'tested_positive', 'tested_positive', 'tested_negative',\n",
              "       'tested_negative', 'tested_positive', 'tested_negative',\n",
              "       'tested_negative', 'tested_positive', 'tested_positive',\n",
              "       'tested_negative', 'tested_negative', 'tested_positive',\n",
              "       'tested_negative', 'tested_negative', 'tested_positive',\n",
              "       'tested_negative', 'tested_negative', 'tested_negative',\n",
              "       'tested_negative', 'tested_negative', 'tested_negative',\n",
              "       'tested_negative', 'tested_positive', 'tested_positive',\n",
              "       'tested_positive', 'tested_negative', 'tested_negative',\n",
              "       'tested_negative', 'tested_negative', 'tested_negative',\n",
              "       'tested_negative', 'tested_positive', 'tested_positive',\n",
              "       'tested_negative', 'tested_negative', 'tested_positive',\n",
              "       'tested_negative', 'tested_negative', 'tested_positive',\n",
              "       'tested_negative', 'tested_positive', 'tested_positive',\n",
              "       'tested_positive', 'tested_negative', 'tested_negative',\n",
              "       'tested_positive', 'tested_positive', 'tested_positive',\n",
              "       'tested_negative', 'tested_positive', 'tested_negative',\n",
              "       'tested_positive', 'tested_negative', 'tested_positive',\n",
              "       'tested_negative', 'tested_negative', 'tested_negative',\n",
              "       'tested_negative', 'tested_positive', 'tested_negative'],\n",
              "      dtype=object)"
            ]
          },
          "metadata": {
            "tags": []
          },
          "execution_count": 54
        }
      ]
    },
    {
      "cell_type": "code",
      "metadata": {
        "id": "MtrnZNO4F27B",
        "colab_type": "code",
        "colab": {}
      },
      "source": [
        "from sklearn.decomposition import PCA\n",
        "\n",
        "pca=PCA(n_components=2)\n",
        "Components = pca.fit_transform(X)"
      ],
      "execution_count": null,
      "outputs": []
    },
    {
      "cell_type": "code",
      "metadata": {
        "id": "V00_AkkfGDXd",
        "colab_type": "code",
        "colab": {}
      },
      "source": [
        "principalDf = pd.DataFrame(data=Components\n",
        "             ,columns=['principal component 1', 'principal component 2'])\n",
        "\n",
        "finalDf = pd.concat([principalDf, df['class']], axis = 1)"
      ],
      "execution_count": null,
      "outputs": []
    },
    {
      "cell_type": "code",
      "metadata": {
        "id": "rAesA7Y8GLx3",
        "colab_type": "code",
        "colab": {
          "base_uri": "https://localhost:8080/",
          "height": 523
        },
        "outputId": "64f1a254-46eb-40d1-b1d6-ab1ab1cdca25"
      },
      "source": [
        "fig = plt.figure(figsize = (8,8)) \n",
        "ax = fig.add_subplot(1,1,1) \n",
        "ax.set_xlabel('Principal Component 1', fontsize = 15)\n",
        "ax.set_ylabel('Principal Component 2', fontsize = 15)\n",
        "ax.set_title('2 component PCA', fontsize = 20)\n",
        "\n",
        "classes = ['tested_positive', 'tested_negative']\n",
        "colors = ['r', 'g']\n",
        "for target, color in zip(classes,colors):\n",
        "    indicesToKeep = finalDf['class'] == target\n",
        "    ax.scatter(finalDf.loc[indicesToKeep, 'principal component 1']\n",
        "               , finalDf.loc[indicesToKeep, 'principal component 2']\n",
        "               , c = color\n",
        "               , s = 50)\n",
        "ax.legend(classes)\n",
        "ax.grid()"
      ],
      "execution_count": null,
      "outputs": [
        {
          "output_type": "display_data",
          "data": {
            "image/png": "[encoded data removed]",
            "text/plain": [
              "<Figure size 576x576 with 1 Axes>"
            ]
          },
          "metadata": {
            "tags": [],
            "needs_background": "light"
          }
        }
      ]
    }
  ]
}