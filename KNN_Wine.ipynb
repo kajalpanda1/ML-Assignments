{
  "nbformat": 4,
  "nbformat_minor": 0,
  "metadata": {
    "colab": {
      "name": "KNN-Wine.ipynb",
      "provenance": [],
      "collapsed_sections": [],
      "authorship_tag": "ABX9TyPzaxXCM6wWuF1dotpE634R",
      "include_colab_link": true
    },
    "kernelspec": {
      "name": "python3",
      "display_name": "Python 3"
    }
  },
  "cells": [
    {
      "cell_type": "markdown",
      "metadata": {
        "id": "view-in-github",
        "colab_type": "text"
      },
      "source": [
        "<a href=\"https://colab.research.google.com/github/kajalpanda1/ML-Assignments/blob/master/KNN_Wine.ipynb\" target=\"_parent\"><img src=\"https://colab.research.google.com/assets/colab-badge.svg\" alt=\"Open In Colab\"/></a>"
      ]
    },
    {
      "cell_type": "code",
      "metadata": {
        "id": "4993YnOUcNDU",
        "colab_type": "code",
        "colab": {
          "base_uri": "https://localhost:8080/",
          "height": 70
        },
        "outputId": "9cee7463-000c-4787-fff0-f9b9d668d574"
      },
      "source": [
        "import numpy as np\n",
        "import pandas as pd\n",
        "from sklearn.neighbors import KNeighborsClassifier\n",
        "from sklearn.model_selection import train_test_split\n",
        "import seaborn as sns\n",
        "import matplotlib.pyplot as plt  "
      ],
      "execution_count": null,
      "outputs": [
        {
          "output_type": "stream",
          "text": [
            "/usr/local/lib/python3.6/dist-packages/statsmodels/tools/_testing.py:19: FutureWarning: pandas.util.testing is deprecated. Use the functions in the public API at pandas.testing instead.\n",
            "  import pandas.util.testing as tm\n"
          ],
          "name": "stderr"
        }
      ]
    },
    {
      "cell_type": "code",
      "metadata": {
        "id": "A4uFjGV_mJLL",
        "colab_type": "code",
        "colab": {}
      },
      "source": [
        "winedf=pd.read_csv('https://raw.githubusercontent.com/kajalpanda1/DatasetRepository/master/Wine_Quality.csv')"
      ],
      "execution_count": null,
      "outputs": []
    },
    {
      "cell_type": "code",
      "metadata": {
        "id": "XmcBhEuzmtyW",
        "colab_type": "code",
        "colab": {
          "base_uri": "https://localhost:8080/",
          "height": 101
        },
        "outputId": "540cc8bb-8df3-4fdd-cda4-d02ff7c013a2"
      },
      "source": [
        "winedf.columns"
      ],
      "execution_count": null,
      "outputs": [
        {
          "output_type": "execute_result",
          "data": {
            "text/plain": [
              "Index(['type', 'fixed acidity', 'volatile acidity', 'citric acid',\n",
              "       'residual sugar', 'chlorides', 'free sulfur dioxide',\n",
              "       'total sulfur dioxide', 'density', 'pH', 'sulphates', 'alcohol',\n",
              "       'quality'],\n",
              "      dtype='object')"
            ]
          },
          "metadata": {
            "tags": []
          },
          "execution_count": 21
        }
      ]
    },
    {
      "cell_type": "code",
      "metadata": {
        "id": "lqfMJ2P7mvbO",
        "colab_type": "code",
        "colab": {}
      },
      "source": [
        "winedf.isnull().sum().sort_values(ascending=False)\n",
        "\n",
        "winedf['fixed acidity'].fillna(value=winedf['fixed acidity'].mean(),inplace=True)\n",
        "winedf['pH'].fillna(value=winedf['pH'].mean(),inplace=True)\n",
        "winedf['volatile acidity'].fillna(value=winedf['volatile acidity'].mean(),inplace=True)\n",
        "winedf['sulphates'].fillna(value=winedf['sulphates'].mean(),inplace=True)\n",
        "winedf['citric acid'].fillna(value=winedf['citric acid'].mean(),inplace=True)\n",
        "winedf['chlorides'].fillna(value=winedf['chlorides'].mean(),inplace=True)\n",
        "winedf['residual sugar'].fillna(value=winedf['residual sugar'].mean(),inplace=True)"
      ],
      "execution_count": null,
      "outputs": []
    },
    {
      "cell_type": "code",
      "metadata": {
        "id": "iU4vm382s6Hf",
        "colab_type": "code",
        "colab": {}
      },
      "source": [
        "from sklearn.preprocessing import LabelEncoder\n",
        "l=LabelEncoder()\n",
        "winedf['type']=l.fit_transform(winedf['type'])"
      ],
      "execution_count": null,
      "outputs": []
    },
    {
      "cell_type": "code",
      "metadata": {
        "id": "3CS0qk2ft491",
        "colab_type": "code",
        "colab": {
          "base_uri": "https://localhost:8080/",
          "height": 229
        },
        "outputId": "97b00ea0-4658-41a2-a003-534b5167cda6"
      },
      "source": [
        "winedf.head()"
      ],
      "execution_count": null,
      "outputs": [
        {
          "output_type": "execute_result",
          "data": {
            "text/html": [
              "<div>\n",
              "<style scoped>\n",
              "    .dataframe tbody tr th:only-of-type {\n",
              "        vertical-align: middle;\n",
              "    }\n",
              "\n",
              "    .dataframe tbody tr th {\n",
              "        vertical-align: top;\n",
              "    }\n",
              "\n",
              "    .dataframe thead th {\n",
              "        text-align: right;\n",
              "    }\n",
              "</style>\n",
              "<table border=\"1\" class=\"dataframe\">\n",
              "  <thead>\n",
              "    <tr style=\"text-align: right;\">\n",
              "      <th></th>\n",
              "      <th>type</th>\n",
              "      <th>fixed acidity</th>\n",
              "      <th>volatile acidity</th>\n",
              "      <th>citric acid</th>\n",
              "      <th>residual sugar</th>\n",
              "      <th>chlorides</th>\n",
              "      <th>free sulfur dioxide</th>\n",
              "      <th>total sulfur dioxide</th>\n",
              "      <th>density</th>\n",
              "      <th>pH</th>\n",
              "      <th>sulphates</th>\n",
              "      <th>alcohol</th>\n",
              "      <th>quality</th>\n",
              "    </tr>\n",
              "  </thead>\n",
              "  <tbody>\n",
              "    <tr>\n",
              "      <th>0</th>\n",
              "      <td>1</td>\n",
              "      <td>7.0</td>\n",
              "      <td>0.27</td>\n",
              "      <td>0.36</td>\n",
              "      <td>20.7</td>\n",
              "      <td>0.045</td>\n",
              "      <td>45.0</td>\n",
              "      <td>170.0</td>\n",
              "      <td>1.0010</td>\n",
              "      <td>3.00</td>\n",
              "      <td>0.45</td>\n",
              "      <td>8.8</td>\n",
              "      <td>6</td>\n",
              "    </tr>\n",
              "    <tr>\n",
              "      <th>1</th>\n",
              "      <td>1</td>\n",
              "      <td>6.3</td>\n",
              "      <td>0.30</td>\n",
              "      <td>0.34</td>\n",
              "      <td>1.6</td>\n",
              "      <td>0.049</td>\n",
              "      <td>14.0</td>\n",
              "      <td>132.0</td>\n",
              "      <td>0.9940</td>\n",
              "      <td>3.30</td>\n",
              "      <td>0.49</td>\n",
              "      <td>9.5</td>\n",
              "      <td>6</td>\n",
              "    </tr>\n",
              "    <tr>\n",
              "      <th>2</th>\n",
              "      <td>1</td>\n",
              "      <td>8.1</td>\n",
              "      <td>0.28</td>\n",
              "      <td>0.40</td>\n",
              "      <td>6.9</td>\n",
              "      <td>0.050</td>\n",
              "      <td>30.0</td>\n",
              "      <td>97.0</td>\n",
              "      <td>0.9951</td>\n",
              "      <td>3.26</td>\n",
              "      <td>0.44</td>\n",
              "      <td>10.1</td>\n",
              "      <td>6</td>\n",
              "    </tr>\n",
              "    <tr>\n",
              "      <th>3</th>\n",
              "      <td>1</td>\n",
              "      <td>7.2</td>\n",
              "      <td>0.23</td>\n",
              "      <td>0.32</td>\n",
              "      <td>8.5</td>\n",
              "      <td>0.058</td>\n",
              "      <td>47.0</td>\n",
              "      <td>186.0</td>\n",
              "      <td>0.9956</td>\n",
              "      <td>3.19</td>\n",
              "      <td>0.40</td>\n",
              "      <td>9.9</td>\n",
              "      <td>6</td>\n",
              "    </tr>\n",
              "    <tr>\n",
              "      <th>4</th>\n",
              "      <td>1</td>\n",
              "      <td>7.2</td>\n",
              "      <td>0.23</td>\n",
              "      <td>0.32</td>\n",
              "      <td>8.5</td>\n",
              "      <td>0.058</td>\n",
              "      <td>47.0</td>\n",
              "      <td>186.0</td>\n",
              "      <td>0.9956</td>\n",
              "      <td>3.19</td>\n",
              "      <td>0.40</td>\n",
              "      <td>9.9</td>\n",
              "      <td>6</td>\n",
              "    </tr>\n",
              "  </tbody>\n",
              "</table>\n",
              "</div>"
            ],
            "text/plain": [
              "   type  fixed acidity  volatile acidity  ...  sulphates  alcohol  quality\n",
              "0     1            7.0              0.27  ...       0.45      8.8        6\n",
              "1     1            6.3              0.30  ...       0.49      9.5        6\n",
              "2     1            8.1              0.28  ...       0.44     10.1        6\n",
              "3     1            7.2              0.23  ...       0.40      9.9        6\n",
              "4     1            7.2              0.23  ...       0.40      9.9        6\n",
              "\n",
              "[5 rows x 13 columns]"
            ]
          },
          "metadata": {
            "tags": []
          },
          "execution_count": 29
        }
      ]
    },
    {
      "cell_type": "code",
      "metadata": {
        "id": "LvGceJ32oDkP",
        "colab_type": "code",
        "colab": {}
      },
      "source": [
        "X=winedf.values[:,:12]\n",
        "Y=winedf.values[:,-1]"
      ],
      "execution_count": null,
      "outputs": []
    },
    {
      "cell_type": "code",
      "metadata": {
        "id": "H3cMKbTNszcn",
        "colab_type": "code",
        "colab": {
          "base_uri": "https://localhost:8080/",
          "height": 134
        },
        "outputId": "f373ab8d-3251-4c8e-fce8-2a016ce78fd8"
      },
      "source": [
        "X"
      ],
      "execution_count": null,
      "outputs": [
        {
          "output_type": "execute_result",
          "data": {
            "text/plain": [
              "array([[ 1.   ,  7.   ,  0.27 , ...,  3.   ,  0.45 ,  8.8  ],\n",
              "       [ 1.   ,  6.3  ,  0.3  , ...,  3.3  ,  0.49 ,  9.5  ],\n",
              "       [ 1.   ,  8.1  ,  0.28 , ...,  3.26 ,  0.44 , 10.1  ],\n",
              "       ...,\n",
              "       [ 0.   ,  6.3  ,  0.51 , ...,  3.42 ,  0.75 , 11.   ],\n",
              "       [ 0.   ,  5.9  ,  0.645, ...,  3.57 ,  0.71 , 10.2  ],\n",
              "       [ 0.   ,  6.   ,  0.31 , ...,  3.39 ,  0.66 , 11.   ]])"
            ]
          },
          "metadata": {
            "tags": []
          },
          "execution_count": 32
        }
      ]
    },
    {
      "cell_type": "code",
      "metadata": {
        "id": "w0CgcH5AtdDX",
        "colab_type": "code",
        "colab": {
          "base_uri": "https://localhost:8080/",
          "height": 34
        },
        "outputId": "31097f15-ae90-433d-e2dd-d3f0c76b4e14"
      },
      "source": [
        "Y"
      ],
      "execution_count": null,
      "outputs": [
        {
          "output_type": "execute_result",
          "data": {
            "text/plain": [
              "array([6., 6., 6., ..., 6., 5., 6.])"
            ]
          },
          "metadata": {
            "tags": []
          },
          "execution_count": 33
        }
      ]
    },
    {
      "cell_type": "code",
      "metadata": {
        "id": "AzjNKshytyKe",
        "colab_type": "code",
        "colab": {}
      },
      "source": [
        "X_train, X_test, Y_train, Y_test = train_test_split(X, Y, test_size = 0.3, random_state = 0)"
      ],
      "execution_count": null,
      "outputs": []
    },
    {
      "cell_type": "code",
      "metadata": {
        "id": "36XF2t2qiGg1",
        "colab_type": "code",
        "colab": {}
      },
      "source": [
        "#Trainig the model for different values of k\n",
        "K = [] \n",
        "training = [] \n",
        "test = [] \n",
        "scores = {} \n",
        "  \n",
        "for k in range(2, 21): \n",
        "    clf = KNeighborsClassifier(n_neighbors = k) \n",
        "    clf.fit(X_train, Y_train) \n",
        "  \n",
        "    training_score = clf.score(X_train, Y_train) \n",
        "    test_score = clf.score(X_test, Y_test) \n",
        "    K.append(k) \n",
        "  \n",
        "    training.append(training_score) \n",
        "    test.append(test_score) \n",
        "    scores[k] = [training_score, test_score] "
      ],
      "execution_count": null,
      "outputs": []
    },
    {
      "cell_type": "code",
      "metadata": {
        "id": "HQic_or9lAVj",
        "colab_type": "code",
        "colab": {
          "base_uri": "https://localhost:8080/",
          "height": 336
        },
        "outputId": "404eef96-11a4-4fd3-8b86-0eac880e5d0e"
      },
      "source": [
        "#Evaluating the model\n",
        "for keys, values in scores.items(): \n",
        "    print(keys, ':', values) "
      ],
      "execution_count": null,
      "outputs": [
        {
          "output_type": "stream",
          "text": [
            "2 : [0.7840334286342644, 0.48205128205128206]\n",
            "3 : [0.7308115240818122, 0.46512820512820513]\n",
            "4 : [0.6835276006157907, 0.47897435897435897]\n",
            "5 : [0.6476797888717836, 0.45897435897435895]\n",
            "6 : [0.6272267429074114, 0.4712820512820513]\n",
            "7 : [0.6151308555091269, 0.46153846153846156]\n",
            "8 : [0.5948977347701782, 0.46512820512820513]\n",
            "9 : [0.5814822960193534, 0.4605128205128205]\n",
            "10 : [0.5718055861007257, 0.4625641025641026]\n",
            "11 : [0.5610292500549813, 0.4543589743589744]\n",
            "12 : [0.5572905212227842, 0.4605128205128205]\n",
            "13 : [0.5511326149109302, 0.4564102564102564]\n",
            "14 : [0.5502529140092368, 0.4728205128205128]\n",
            "15 : [0.5482735869804266, 0.4676923076923077]\n",
            "16 : [0.5363976248075655, 0.4794871794871795]\n",
            "17 : [0.5399164284143392, 0.46153846153846156]\n",
            "18 : [0.5366175500329888, 0.46974358974358976]\n",
            "19 : [0.5363976248075655, 0.4635897435897436]\n",
            "20 : [0.5339784473279086, 0.46615384615384614]\n"
          ],
          "name": "stdout"
        }
      ]
    },
    {
      "cell_type": "code",
      "metadata": {
        "id": "Q8GFpycQiTbz",
        "colab_type": "code",
        "colab": {
          "base_uri": "https://localhost:8080/",
          "height": 269
        },
        "outputId": "7acd15b7-e632-484c-a029-f67c75957028"
      },
      "source": [
        "#Plotting training and testing scores\n",
        "plt.scatter(K, training, color ='k') \n",
        "plt.scatter(K, test, color ='g') \n",
        "plt.show() "
      ],
      "execution_count": null,
      "outputs": [
        {
          "output_type": "display_data",
          "data": {
            "image/png": "[encoded data removed]",
            "text/plain": [
              "<Figure size 432x288 with 1 Axes>"
            ]
          },
          "metadata": {
            "tags": [],
            "needs_background": "light"
          }
        }
      ]
    },
    {
      "cell_type": "code",
      "metadata": {
        "id": "hnUhyBXouSkj",
        "colab_type": "code",
        "colab": {}
      },
      "source": [
        ""
      ],
      "execution_count": null,
      "outputs": []
    }
  ]
}