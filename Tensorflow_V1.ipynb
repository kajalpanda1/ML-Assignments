{
  "nbformat": 4,
  "nbformat_minor": 0,
  "metadata": {
    "colab": {
      "name": "Tensorflow-V1.ipynb",
      "provenance": [],
      "collapsed_sections": [],
      "authorship_tag": "ABX9TyO7t2EuwMKl3Tn8P+VBwtya",
      "include_colab_link": true
    },
    "kernelspec": {
      "name": "python3",
      "display_name": "Python 3"
    }
  },
  "cells": [
    {
      "cell_type": "markdown",
      "metadata": {
        "id": "view-in-github",
        "colab_type": "text"
      },
      "source": [
        "<a href=\"https://colab.research.google.com/github/kajalpanda1/ML-Assignments/blob/master/Tensorflow_V1.ipynb\" target=\"_parent\"><img src=\"https://colab.research.google.com/assets/colab-badge.svg\" alt=\"Open In Colab\"/></a>"
      ]
    },
    {
      "cell_type": "code",
      "metadata": {
        "id": "Gh0wwF3jr5_Q",
        "colab_type": "code",
        "colab": {}
      },
      "source": [
        "import tensorflow as tf"
      ],
      "execution_count": null,
      "outputs": []
    },
    {
      "cell_type": "markdown",
      "metadata": {
        "id": "rYfYrsu6s4rc",
        "colab_type": "text"
      },
      "source": [
        "check tensorflow version"
      ]
    },
    {
      "cell_type": "code",
      "metadata": {
        "id": "Y0dwxeVnt2zj",
        "colab_type": "code",
        "colab": {
          "base_uri": "https://localhost:8080/",
          "height": 205
        },
        "outputId": "8f056b3e-4f7a-463f-8189-1dd607f00d8e"
      },
      "source": [
        "!pip show tensorflow"
      ],
      "execution_count": null,
      "outputs": [
        {
          "output_type": "stream",
          "text": [
            "Name: tensorflow\n",
            "Version: 2.3.0\n",
            "Summary: TensorFlow is an open source machine learning framework for everyone.\n",
            "Home-page: https://www.tensorflow.org/\n",
            "Author: Google Inc.\n",
            "Author-email: packages@tensorflow.org\n",
            "License: Apache 2.0\n",
            "Location: /usr/local/lib/python3.6/dist-packages\n",
            "Requires: google-pasta, gast, h5py, astunparse, protobuf, termcolor, grpcio, tensorboard, six, wheel, opt-einsum, tensorflow-estimator, keras-preprocessing, wrapt, scipy, numpy, absl-py\n",
            "Required-by: fancyimpute\n"
          ],
          "name": "stdout"
        }
      ]
    },
    {
      "cell_type": "code",
      "metadata": {
        "id": "r-gvjzqn9YhC",
        "colab_type": "code",
        "colab": {}
      },
      "source": [
        "#Disable the eager execution\n",
        "tf.compat.v1.disable_eager_execution() "
      ],
      "execution_count": null,
      "outputs": []
    },
    {
      "cell_type": "code",
      "metadata": {
        "id": "EBo1EbHZYcfn",
        "colab_type": "code",
        "colab": {}
      },
      "source": [
        "a = tf.constant(1, name='a_var')\n",
        "b = tf.constant(2, name='b_bar')"
      ],
      "execution_count": null,
      "outputs": []
    },
    {
      "cell_type": "code",
      "metadata": {
        "id": "z8lHflmpYg1O",
        "colab_type": "code",
        "colab": {
          "base_uri": "https://localhost:8080/",
          "height": 34
        },
        "outputId": "d49063b2-8939-406c-83a2-e0dce1bae8ad"
      },
      "source": [
        "print(a,b)"
      ],
      "execution_count": null,
      "outputs": [
        {
          "output_type": "stream",
          "text": [
            "Tensor(\"a_var:0\", shape=(), dtype=int32) Tensor(\"b_bar:0\", shape=(), dtype=int32)\n"
          ],
          "name": "stdout"
        }
      ]
    },
    {
      "cell_type": "code",
      "metadata": {
        "id": "8uYKn7EnYjWv",
        "colab_type": "code",
        "colab": {
          "base_uri": "https://localhost:8080/",
          "height": 34
        },
        "outputId": "dc0a9132-7760-4c51-91cf-93b3ccd41e64"
      },
      "source": [
        "c=tf.Variable(a+b)\n",
        "c"
      ],
      "execution_count": null,
      "outputs": [
        {
          "output_type": "execute_result",
          "data": {
            "text/plain": [
              "<tf.Variable 'Variable:0' shape=() dtype=int32>"
            ]
          },
          "metadata": {
            "tags": []
          },
          "execution_count": 6
        }
      ]
    },
    {
      "cell_type": "code",
      "metadata": {
        "id": "aBLH1nt4Ym4j",
        "colab_type": "code",
        "colab": {}
      },
      "source": [
        "init = tf.compat.v1.global_variables_initializer()"
      ],
      "execution_count": null,
      "outputs": []
    },
    {
      "cell_type": "code",
      "metadata": {
        "id": "NlihqahVYpVI",
        "colab_type": "code",
        "colab": {
          "base_uri": "https://localhost:8080/",
          "height": 34
        },
        "outputId": "96ab5081-3277-4f1f-cee4-c12df6dce97b"
      },
      "source": [
        "with tf.compat.v1.Session() as session:                    \n",
        "    session.run(init)                            \n",
        "    print(session.run(c))"
      ],
      "execution_count": null,
      "outputs": [
        {
          "output_type": "stream",
          "text": [
            "3\n"
          ],
          "name": "stdout"
        }
      ]
    },
    {
      "cell_type": "code",
      "metadata": {
        "id": "zODmu_BoYtMV",
        "colab_type": "code",
        "colab": {}
      },
      "source": [
        "x = tf.compat.v1.placeholder(dtype=tf.float32)"
      ],
      "execution_count": null,
      "outputs": []
    },
    {
      "cell_type": "code",
      "metadata": {
        "id": "AZXjqJoB_Izc",
        "colab_type": "code",
        "colab": {}
      },
      "source": [
        "a = tf.constant(1, dtype=tf.float32)\n",
        "b = tf.constant(-20, dtype=tf.float32)\n",
        "c = tf.constant(-100, dtype=tf.float32)"
      ],
      "execution_count": null,
      "outputs": []
    },
    {
      "cell_type": "code",
      "metadata": {
        "id": "DspTzdOS_Jm1",
        "colab_type": "code",
        "colab": {}
      },
      "source": [
        "import numpy as np\n",
        "\n",
        "y = a * (x ** 2) + b * x + c\n",
        "x_feed = np.linspace(-10, 30, num=10)"
      ],
      "execution_count": null,
      "outputs": []
    },
    {
      "cell_type": "code",
      "metadata": {
        "id": "Mx5hee_b_8zy",
        "colab_type": "code",
        "colab": {
          "base_uri": "https://localhost:8080/",
          "height": 50
        },
        "outputId": "798f41e7-7cd3-4389-d622-c4c23c9454bb"
      },
      "source": [
        "with tf.compat.v1.Session() as sess:\n",
        "  results = sess.run(y, feed_dict={x: x_feed})\n",
        "print(results)"
      ],
      "execution_count": null,
      "outputs": [
        {
          "output_type": "stream",
          "text": [
            "[ 200.         41.975304  -76.54321  -155.55554  -195.06174  -195.06174\n",
            " -155.55554   -76.54324    41.97534   200.      ]\n"
          ],
          "name": "stdout"
        }
      ]
    },
    {
      "cell_type": "code",
      "metadata": {
        "id": "m5eKQjFdJjR_",
        "colab_type": "code",
        "colab": {}
      },
      "source": [
        "X = tf.compat.v1.placeholder(float)\n",
        "Y = tf.compat.v1.placeholder(float)"
      ],
      "execution_count": null,
      "outputs": []
    },
    {
      "cell_type": "code",
      "metadata": {
        "id": "S6gMO9n0ARjZ",
        "colab_type": "code",
        "colab": {}
      },
      "source": [
        "import numpy as np\n",
        "\n",
        "W = tf.Variable(np.random.randn(),dtype=tf.float32, name = \"W\") \n",
        "b = tf.Variable(np.random.randn(), dtype=tf.float32, name = \"b\") \n",
        "x=tf.compat.v1.placeholder(tf.float32)"
      ],
      "execution_count": null,
      "outputs": []
    },
    {
      "cell_type": "code",
      "metadata": {
        "id": "Pkb4eRoyLvjZ",
        "colab_type": "code",
        "colab": {}
      },
      "source": [
        "##equation of linear Model\n",
        "linear_model=W*x+b"
      ],
      "execution_count": null,
      "outputs": []
    },
    {
      "cell_type": "code",
      "metadata": {
        "id": "AwdeskP8bc7n",
        "colab_type": "code",
        "colab": {}
      },
      "source": [
        "## Initialize all variables\n",
        "sess=tf.compat.v1.Session()\n",
        "init=tf.compat.v1.global_variables_initializer()\n",
        "sess.run(init)"
      ],
      "execution_count": null,
      "outputs": []
    },
    {
      "cell_type": "code",
      "metadata": {
        "id": "6ASZFkgYbj-2",
        "colab_type": "code",
        "colab": {
          "base_uri": "https://localhost:8080/",
          "height": 50
        },
        "outputId": "66720566-88c6-4ce1-d21c-f3002e190f55"
      },
      "source": [
        "print(sess.run(linear_model,{x:[1,2,3,4]}))\n",
        "\n",
        "# Placeholder for the desired output\n",
        "y=tf.compat.v1.placeholder(tf.float32)\n",
        "\n",
        "#Calculate Sum of the squared error\n",
        "error=linear_model-y\n",
        "squared_errors=tf.square(error)\n",
        "loss=tf.reduce_sum(squared_errors) #reduce_sum computes the sum of the elements across the dimensions of the tensor\n",
        "\n",
        "#Print Loss\n",
        "print(sess.run(loss,{x:[1,2,3,4], y:[2,4,6,8]}))"
      ],
      "execution_count": null,
      "outputs": [
        {
          "output_type": "stream",
          "text": [
            "[-0.7737691 -1.3439281 -1.9140872 -2.484246 ]\n",
            "208.80356\n"
          ],
          "name": "stdout"
        }
      ]
    },
    {
      "cell_type": "code",
      "metadata": {
        "id": "_zR-ELbxbo1x",
        "colab_type": "code",
        "colab": {
          "base_uri": "https://localhost:8080/",
          "height": 50
        },
        "outputId": "5fe5185b-308c-428a-b4d6-a8a6b4357f50"
      },
      "source": [
        "# Creating an instance of Gradient Descent Optimizer\n",
        "optimizer=tf.compat.v1.train.GradientDescentOptimizer(0.01)\n",
        "\n",
        "# Minimize the loss using optimizer\n",
        "train=optimizer.minimize(loss)\n",
        "\n",
        "# Minimizing error in successive iterations\n",
        "for i in range(1000):\n",
        "       sess.run(train,{x:[1,2,3,4], y:[2,4,6,8]})\n",
        "        \n",
        "#Calculate an instance of gradient descent optimizer\n",
        "print(sess.run([W,b]))\n",
        "print(sess.run(loss, {x:[1,2,3,4], y:[2,4,6,8]}))"
      ],
      "execution_count": null,
      "outputs": [
        {
          "output_type": "stream",
          "text": [
            "[1.9999987, 3.5877922e-06]\n",
            "8.6402e-12\n"
          ],
          "name": "stdout"
        }
      ]
    },
    {
      "cell_type": "code",
      "metadata": {
        "id": "4PlKaE-znXlP",
        "colab_type": "code",
        "colab": {
          "base_uri": "https://localhost:8080/",
          "height": 34
        },
        "outputId": "1a5910df-aee4-41cd-ebb3-462c3b337854"
      },
      "source": [
        "print(sess.run(linear_model,feed_dict={x:[1,2,3,4]}))"
      ],
      "execution_count": null,
      "outputs": [
        {
          "output_type": "stream",
          "text": [
            "[2.0000024 4.000001  6.        7.9999986]\n"
          ],
          "name": "stdout"
        }
      ]
    }
  ]
}